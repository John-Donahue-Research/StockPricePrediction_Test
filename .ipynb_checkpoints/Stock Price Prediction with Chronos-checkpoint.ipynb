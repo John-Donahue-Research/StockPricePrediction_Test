{
 "cells": [
  {
   "cell_type": "markdown",
   "id": "57c4a63a-d7bc-4320-9b69-e84126b2efb5",
   "metadata": {},
   "source": [
    "Predict stock price on "
   ]
  }
 ],
 "metadata": {
  "kernelspec": {
   "display_name": "CeCodeAI",
   "language": "python",
   "name": "cecodeai"
  },
  "language_info": {
   "codemirror_mode": {
    "name": "ipython",
    "version": 3
   },
   "file_extension": ".py",
   "mimetype": "text/x-python",
   "name": "python",
   "nbconvert_exporter": "python",
   "pygments_lexer": "ipython3",
   "version": "3.9.18"
  }
 },
 "nbformat": 4,
 "nbformat_minor": 5
}
