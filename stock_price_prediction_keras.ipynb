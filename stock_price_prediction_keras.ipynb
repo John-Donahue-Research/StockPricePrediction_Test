{
 "cells": [
  {
   "cell_type": "markdown",
   "metadata": {
    "colab_type": "text",
    "id": "view-in-github"
   },
   "source": [
    "<a href=\"https://colab.research.google.com/github/John-Donahue-Research/TestGit/blob/master/stock_price_prediction_keras.ipynb\" target=\"_parent\"><img src=\"https://colab.research.google.com/assets/colab-badge.svg\" alt=\"Open In Colab\"/></a>"
   ]
  },
  {
   "cell_type": "markdown",
   "metadata": {
    "id": "EgaNRy_Rq0wx"
   },
   "source": [
    "# Predict stock prices  with Long short-term memory (LSTM)"
   ]
  },
  {
   "cell_type": "markdown",
   "metadata": {
    "id": "S1WPMQ_LHNQU"
   },
   "source": [
    "This simple example will show you how LSTM models predict time series data. Stock market data is a great choice for this because it's quite regular and widely available via the Internet."
   ]
  },
  {
   "cell_type": "markdown",
   "metadata": {
    "id": "vurGbUjFwBFO"
   },
   "source": [
    "## Install requirements\n",
    "We install Tensorflow 2.0 with GPU support first"
   ]
  },
  {
   "cell_type": "code",
   "execution_count": 1,
   "metadata": {
    "colab": {
     "base_uri": "https://localhost:8080/"
    },
    "id": "QSG622MbwEOJ",
    "outputId": "0e2a5210-4a02-4883-c78e-43e52fe1473b"
   },
   "outputs": [],
   "source": [
    "#!pip install tensorflow\n",
    "# #-gpu==2.0.0-alpha0"
   ]
  },
  {
   "cell_type": "code",
   "execution_count": 2,
   "metadata": {
    "colab": {
     "base_uri": "https://localhost:8080/"
    },
    "id": "fmR4lwm81Vbr",
    "outputId": "2eacfbdf-b997-4231-9864-4cc3ca4a2031"
   },
   "outputs": [],
   "source": [
    "#!pip install pandas-datareader"
   ]
  },
  {
   "cell_type": "code",
   "execution_count": 3,
   "metadata": {
    "colab": {
     "base_uri": "https://localhost:8080/"
    },
    "id": "hqWZAabeiLc_",
    "outputId": "275a380c-13a7-493f-d1a2-9ef13ed9d297"
   },
   "outputs": [],
   "source": [
    "#!pip install graphviz"
   ]
  },
  {
   "cell_type": "code",
   "execution_count": 4,
   "metadata": {
    "colab": {
     "base_uri": "https://localhost:8080/"
    },
    "id": "K5Wmmx6-iPUT",
    "outputId": "625b086a-4a71-4dce-b291-a30f87d26576"
   },
   "outputs": [],
   "source": [
    "#!pip install pydot pydot-ng"
   ]
  },
  {
   "cell_type": "code",
   "execution_count": 5,
   "metadata": {
    "colab": {
     "base_uri": "https://localhost:8080/"
    },
    "id": "d9_JBJiIWFiT",
    "outputId": "fb1bab04-0eab-430c-d53e-293ed8ec9d6d"
   },
   "outputs": [
    {
     "name": "stdout",
     "output_type": "stream",
     "text": [
      "Num GPUs Available:  0\n"
     ]
    }
   ],
   "source": [
    "import tensorflow as tf\n",
    "\n",
    "print(\"Num GPUs Available: \", len(tf.config.list_physical_devices('GPU')))"
   ]
  },
  {
   "cell_type": "markdown",
   "metadata": {
    "id": "Fcl6EKdTv51W"
   },
   "source": [
    "## Introduction"
   ]
  },
  {
   "cell_type": "markdown",
   "metadata": {
    "id": "Rui0kjzEvXTV"
   },
   "source": [
    "LSTMs are very powerful in sequence prediction problems. They can store past information."
   ]
  },
  {
   "cell_type": "markdown",
   "metadata": {
    "id": "Ed7_c04-vz2f"
   },
   "source": [
    "## Loading the dataset\n",
    "I use pandas-datareader to get the historical stock prices from Yahoo! finance. For this example, I get only the historical data till the end of *training_end_data*.  "
   ]
  },
  {
   "cell_type": "code",
   "execution_count": 7,
   "metadata": {
    "colab": {
     "base_uri": "https://localhost:8080/"
    },
    "id": "Hh-pO_QXqysJ",
    "outputId": "ea4e2da8-889d-4c83-b325-36005ded08a0"
   },
   "outputs": [],
   "source": [
    "import numpy as np\n",
    "import matplotlib.pyplot as plt\n",
    "import pandas as pd\n",
    "#from pandas import business day deltas\n",
    "from pandas_datareader import data\n",
    "#!pip install yfinance"
   ]
  },
  {
   "cell_type": "code",
   "execution_count": 12,
   "metadata": {
    "colab": {
     "base_uri": "https://localhost:8080/"
    },
    "id": "D8-w0eEtwnaj",
    "outputId": "99977ad6-40a7-493c-8379-389f8c47a980"
   },
   "outputs": [
    {
     "name": "stderr",
     "output_type": "stream",
     "text": [
      "[*********************100%%**********************]  1 of 1 completed\n"
     ]
    }
   ],
   "source": [
    "import yfinance as yf\n",
    "tickers = 'AAPL'\n",
    "start_date = '2024-06-01'\n",
    "end_date   = '2024-06-30'\n",
    "\n",
    "#stock_data = pd.read_parquet(\"../data/AAPL_1min_5D_hist.parquet\")\n",
    "#stock_data.set_index('date', inplace=True, drop=False)\n",
    "\n",
    "stock_data = yf.download(tickers, start_date, end_date)\n",
    "#data.get_data_yahoo(tickers, start_date, end_date)"
   ]
  },
  {
   "cell_type": "code",
   "execution_count": 15,
   "metadata": {},
   "outputs": [
    {
     "data": {
      "text/html": [
       "<div>\n",
       "<style scoped>\n",
       "    .dataframe tbody tr th:only-of-type {\n",
       "        vertical-align: middle;\n",
       "    }\n",
       "\n",
       "    .dataframe tbody tr th {\n",
       "        vertical-align: top;\n",
       "    }\n",
       "\n",
       "    .dataframe thead th {\n",
       "        text-align: right;\n",
       "    }\n",
       "</style>\n",
       "<table border=\"1\" class=\"dataframe\">\n",
       "  <thead>\n",
       "    <tr style=\"text-align: right;\">\n",
       "      <th></th>\n",
       "      <th>Open</th>\n",
       "      <th>High</th>\n",
       "      <th>Low</th>\n",
       "      <th>Close</th>\n",
       "      <th>Adj Close</th>\n",
       "      <th>Volume</th>\n",
       "    </tr>\n",
       "    <tr>\n",
       "      <th>Date</th>\n",
       "      <th></th>\n",
       "      <th></th>\n",
       "      <th></th>\n",
       "      <th></th>\n",
       "      <th></th>\n",
       "      <th></th>\n",
       "    </tr>\n",
       "  </thead>\n",
       "  <tbody>\n",
       "    <tr>\n",
       "      <th>2024-06-24</th>\n",
       "      <td>207.720001</td>\n",
       "      <td>212.699997</td>\n",
       "      <td>206.589996</td>\n",
       "      <td>208.139999</td>\n",
       "      <td>208.139999</td>\n",
       "      <td>80727000</td>\n",
       "    </tr>\n",
       "    <tr>\n",
       "      <th>2024-06-25</th>\n",
       "      <td>209.149994</td>\n",
       "      <td>211.380005</td>\n",
       "      <td>208.610001</td>\n",
       "      <td>209.070007</td>\n",
       "      <td>209.070007</td>\n",
       "      <td>56713900</td>\n",
       "    </tr>\n",
       "    <tr>\n",
       "      <th>2024-06-26</th>\n",
       "      <td>211.500000</td>\n",
       "      <td>214.860001</td>\n",
       "      <td>210.639999</td>\n",
       "      <td>213.250000</td>\n",
       "      <td>213.250000</td>\n",
       "      <td>66213200</td>\n",
       "    </tr>\n",
       "    <tr>\n",
       "      <th>2024-06-27</th>\n",
       "      <td>214.690002</td>\n",
       "      <td>215.740005</td>\n",
       "      <td>212.350006</td>\n",
       "      <td>214.100006</td>\n",
       "      <td>214.100006</td>\n",
       "      <td>49772700</td>\n",
       "    </tr>\n",
       "    <tr>\n",
       "      <th>2024-06-28</th>\n",
       "      <td>215.770004</td>\n",
       "      <td>216.070007</td>\n",
       "      <td>210.300003</td>\n",
       "      <td>210.619995</td>\n",
       "      <td>210.619995</td>\n",
       "      <td>82475600</td>\n",
       "    </tr>\n",
       "  </tbody>\n",
       "</table>\n",
       "</div>"
      ],
      "text/plain": [
       "                  Open        High         Low       Close   Adj Close  \\\n",
       "Date                                                                     \n",
       "2024-06-24  207.720001  212.699997  206.589996  208.139999  208.139999   \n",
       "2024-06-25  209.149994  211.380005  208.610001  209.070007  209.070007   \n",
       "2024-06-26  211.500000  214.860001  210.639999  213.250000  213.250000   \n",
       "2024-06-27  214.690002  215.740005  212.350006  214.100006  214.100006   \n",
       "2024-06-28  215.770004  216.070007  210.300003  210.619995  210.619995   \n",
       "\n",
       "              Volume  \n",
       "Date                  \n",
       "2024-06-24  80727000  \n",
       "2024-06-25  56713900  \n",
       "2024-06-26  66213200  \n",
       "2024-06-27  49772700  \n",
       "2024-06-28  82475600  "
      ]
     },
     "execution_count": 15,
     "metadata": {},
     "output_type": "execute_result"
    }
   ],
   "source": [
    "stock_data.tail()"
   ]
  },
  {
   "cell_type": "code",
   "execution_count": 16,
   "metadata": {
    "colab": {
     "base_uri": "https://localhost:8080/",
     "height": 394
    },
    "id": "Y2HpcDRd38on",
    "outputId": "b602736e-500e-49d8-addb-88d01f8fff9a"
   },
   "outputs": [
    {
     "data": {
      "text/plain": [
       "Timestamp('2024-06-03 00:00:00')"
      ]
     },
     "metadata": {},
     "output_type": "display_data"
    },
    {
     "data": {
      "text/html": [
       "<div>\n",
       "<style scoped>\n",
       "    .dataframe tbody tr th:only-of-type {\n",
       "        vertical-align: middle;\n",
       "    }\n",
       "\n",
       "    .dataframe tbody tr th {\n",
       "        vertical-align: top;\n",
       "    }\n",
       "\n",
       "    .dataframe thead th {\n",
       "        text-align: right;\n",
       "    }\n",
       "</style>\n",
       "<table border=\"1\" class=\"dataframe\">\n",
       "  <thead>\n",
       "    <tr style=\"text-align: right;\">\n",
       "      <th></th>\n",
       "      <th>Open</th>\n",
       "      <th>High</th>\n",
       "      <th>Low</th>\n",
       "      <th>Close</th>\n",
       "      <th>Adj Close</th>\n",
       "      <th>Volume</th>\n",
       "    </tr>\n",
       "    <tr>\n",
       "      <th>Date</th>\n",
       "      <th></th>\n",
       "      <th></th>\n",
       "      <th></th>\n",
       "      <th></th>\n",
       "      <th></th>\n",
       "      <th></th>\n",
       "    </tr>\n",
       "  </thead>\n",
       "  <tbody>\n",
       "    <tr>\n",
       "      <th>2024-06-03</th>\n",
       "      <td>192.899994</td>\n",
       "      <td>194.990005</td>\n",
       "      <td>192.520004</td>\n",
       "      <td>194.029999</td>\n",
       "      <td>194.029999</td>\n",
       "      <td>50080500</td>\n",
       "    </tr>\n",
       "    <tr>\n",
       "      <th>2024-06-04</th>\n",
       "      <td>194.639999</td>\n",
       "      <td>195.320007</td>\n",
       "      <td>193.029999</td>\n",
       "      <td>194.350006</td>\n",
       "      <td>194.350006</td>\n",
       "      <td>47471400</td>\n",
       "    </tr>\n",
       "    <tr>\n",
       "      <th>2024-06-05</th>\n",
       "      <td>195.399994</td>\n",
       "      <td>196.899994</td>\n",
       "      <td>194.869995</td>\n",
       "      <td>195.869995</td>\n",
       "      <td>195.869995</td>\n",
       "      <td>54156800</td>\n",
       "    </tr>\n",
       "    <tr>\n",
       "      <th>2024-06-06</th>\n",
       "      <td>195.690002</td>\n",
       "      <td>196.500000</td>\n",
       "      <td>194.169998</td>\n",
       "      <td>194.479996</td>\n",
       "      <td>194.479996</td>\n",
       "      <td>41181800</td>\n",
       "    </tr>\n",
       "    <tr>\n",
       "      <th>2024-06-07</th>\n",
       "      <td>194.649994</td>\n",
       "      <td>196.940002</td>\n",
       "      <td>194.139999</td>\n",
       "      <td>196.889999</td>\n",
       "      <td>196.889999</td>\n",
       "      <td>53103900</td>\n",
       "    </tr>\n",
       "    <tr>\n",
       "      <th>2024-06-10</th>\n",
       "      <td>196.899994</td>\n",
       "      <td>197.300003</td>\n",
       "      <td>192.149994</td>\n",
       "      <td>193.119995</td>\n",
       "      <td>193.119995</td>\n",
       "      <td>97262100</td>\n",
       "    </tr>\n",
       "    <tr>\n",
       "      <th>2024-06-11</th>\n",
       "      <td>193.649994</td>\n",
       "      <td>207.160004</td>\n",
       "      <td>193.630005</td>\n",
       "      <td>207.149994</td>\n",
       "      <td>207.149994</td>\n",
       "      <td>172373300</td>\n",
       "    </tr>\n",
       "    <tr>\n",
       "      <th>2024-06-12</th>\n",
       "      <td>207.369995</td>\n",
       "      <td>220.199997</td>\n",
       "      <td>206.899994</td>\n",
       "      <td>213.070007</td>\n",
       "      <td>213.070007</td>\n",
       "      <td>198134300</td>\n",
       "    </tr>\n",
       "    <tr>\n",
       "      <th>2024-06-13</th>\n",
       "      <td>214.740005</td>\n",
       "      <td>216.750000</td>\n",
       "      <td>211.600006</td>\n",
       "      <td>214.240005</td>\n",
       "      <td>214.240005</td>\n",
       "      <td>97862700</td>\n",
       "    </tr>\n",
       "    <tr>\n",
       "      <th>2024-06-14</th>\n",
       "      <td>213.850006</td>\n",
       "      <td>215.169998</td>\n",
       "      <td>211.300003</td>\n",
       "      <td>212.490005</td>\n",
       "      <td>212.490005</td>\n",
       "      <td>70122700</td>\n",
       "    </tr>\n",
       "  </tbody>\n",
       "</table>\n",
       "</div>"
      ],
      "text/plain": [
       "                  Open        High         Low       Close   Adj Close  \\\n",
       "Date                                                                     \n",
       "2024-06-03  192.899994  194.990005  192.520004  194.029999  194.029999   \n",
       "2024-06-04  194.639999  195.320007  193.029999  194.350006  194.350006   \n",
       "2024-06-05  195.399994  196.899994  194.869995  195.869995  195.869995   \n",
       "2024-06-06  195.690002  196.500000  194.169998  194.479996  194.479996   \n",
       "2024-06-07  194.649994  196.940002  194.139999  196.889999  196.889999   \n",
       "2024-06-10  196.899994  197.300003  192.149994  193.119995  193.119995   \n",
       "2024-06-11  193.649994  207.160004  193.630005  207.149994  207.149994   \n",
       "2024-06-12  207.369995  220.199997  206.899994  213.070007  213.070007   \n",
       "2024-06-13  214.740005  216.750000  211.600006  214.240005  214.240005   \n",
       "2024-06-14  213.850006  215.169998  211.300003  212.490005  212.490005   \n",
       "\n",
       "               Volume  \n",
       "Date                   \n",
       "2024-06-03   50080500  \n",
       "2024-06-04   47471400  \n",
       "2024-06-05   54156800  \n",
       "2024-06-06   41181800  \n",
       "2024-06-07   53103900  \n",
       "2024-06-10   97262100  \n",
       "2024-06-11  172373300  \n",
       "2024-06-12  198134300  \n",
       "2024-06-13   97862700  \n",
       "2024-06-14   70122700  "
      ]
     },
     "metadata": {},
     "output_type": "display_data"
    },
    {
     "data": {
      "text/plain": [
       "Timestamp('2024-06-28 00:00:00')"
      ]
     },
     "metadata": {},
     "output_type": "display_data"
    }
   ],
   "source": [
    "display(stock_data.index.min())\n",
    "display(stock_data.head(10))\n",
    "display(stock_data.index.max())\n",
    "\n",
    "start_date = stock_data.index.min() #'1980-12-01'\n",
    "end_date = stock_data.index.max()  #'2018-12-31'\n"
   ]
  },
  {
   "cell_type": "code",
   "execution_count": 17,
   "metadata": {
    "colab": {
     "base_uri": "https://localhost:8080/",
     "height": 300
    },
    "id": "_0UQ1jU7MHYi",
    "outputId": "0710725f-3fe3-4fa3-9469-592803fde04e"
   },
   "outputs": [
    {
     "data": {
      "text/html": [
       "<div>\n",
       "<style scoped>\n",
       "    .dataframe tbody tr th:only-of-type {\n",
       "        vertical-align: middle;\n",
       "    }\n",
       "\n",
       "    .dataframe tbody tr th {\n",
       "        vertical-align: top;\n",
       "    }\n",
       "\n",
       "    .dataframe thead th {\n",
       "        text-align: right;\n",
       "    }\n",
       "</style>\n",
       "<table border=\"1\" class=\"dataframe\">\n",
       "  <thead>\n",
       "    <tr style=\"text-align: right;\">\n",
       "      <th></th>\n",
       "      <th>Open</th>\n",
       "      <th>High</th>\n",
       "      <th>Low</th>\n",
       "      <th>Close</th>\n",
       "      <th>Adj Close</th>\n",
       "      <th>Volume</th>\n",
       "    </tr>\n",
       "  </thead>\n",
       "  <tbody>\n",
       "    <tr>\n",
       "      <th>count</th>\n",
       "      <td>19.000000</td>\n",
       "      <td>19.000000</td>\n",
       "      <td>19.000000</td>\n",
       "      <td>19.000000</td>\n",
       "      <td>19.000000</td>\n",
       "      <td>1.900000e+01</td>\n",
       "    </tr>\n",
       "    <tr>\n",
       "      <th>mean</th>\n",
       "      <td>205.994735</td>\n",
       "      <td>209.036318</td>\n",
       "      <td>203.920001</td>\n",
       "      <td>206.263158</td>\n",
       "      <td>206.263158</td>\n",
       "      <td>9.073249e+07</td>\n",
       "    </tr>\n",
       "    <tr>\n",
       "      <th>std</th>\n",
       "      <td>9.153808</td>\n",
       "      <td>9.345241</td>\n",
       "      <td>8.394212</td>\n",
       "      <td>8.416531</td>\n",
       "      <td>8.416531</td>\n",
       "      <td>5.549842e+07</td>\n",
       "    </tr>\n",
       "    <tr>\n",
       "      <th>min</th>\n",
       "      <td>192.899994</td>\n",
       "      <td>194.990005</td>\n",
       "      <td>192.149994</td>\n",
       "      <td>193.119995</td>\n",
       "      <td>193.119995</td>\n",
       "      <td>4.118180e+07</td>\n",
       "    </tr>\n",
       "    <tr>\n",
       "      <th>25%</th>\n",
       "      <td>195.544998</td>\n",
       "      <td>197.120003</td>\n",
       "      <td>194.154999</td>\n",
       "      <td>196.379997</td>\n",
       "      <td>196.379997</td>\n",
       "      <td>5.363035e+07</td>\n",
       "    </tr>\n",
       "    <tr>\n",
       "      <th>50%</th>\n",
       "      <td>209.149994</td>\n",
       "      <td>212.699997</td>\n",
       "      <td>207.110001</td>\n",
       "      <td>209.070007</td>\n",
       "      <td>209.070007</td>\n",
       "      <td>7.994330e+07</td>\n",
       "    </tr>\n",
       "    <tr>\n",
       "      <th>75%</th>\n",
       "      <td>213.889999</td>\n",
       "      <td>215.905006</td>\n",
       "      <td>210.970001</td>\n",
       "      <td>213.160004</td>\n",
       "      <td>213.160004</td>\n",
       "      <td>9.549520e+07</td>\n",
       "    </tr>\n",
       "    <tr>\n",
       "      <th>max</th>\n",
       "      <td>217.589996</td>\n",
       "      <td>220.199997</td>\n",
       "      <td>213.000000</td>\n",
       "      <td>216.669998</td>\n",
       "      <td>216.669998</td>\n",
       "      <td>2.464214e+08</td>\n",
       "    </tr>\n",
       "  </tbody>\n",
       "</table>\n",
       "</div>"
      ],
      "text/plain": [
       "             Open        High         Low       Close   Adj Close  \\\n",
       "count   19.000000   19.000000   19.000000   19.000000   19.000000   \n",
       "mean   205.994735  209.036318  203.920001  206.263158  206.263158   \n",
       "std      9.153808    9.345241    8.394212    8.416531    8.416531   \n",
       "min    192.899994  194.990005  192.149994  193.119995  193.119995   \n",
       "25%    195.544998  197.120003  194.154999  196.379997  196.379997   \n",
       "50%    209.149994  212.699997  207.110001  209.070007  209.070007   \n",
       "75%    213.889999  215.905006  210.970001  213.160004  213.160004   \n",
       "max    217.589996  220.199997  213.000000  216.669998  216.669998   \n",
       "\n",
       "             Volume  \n",
       "count  1.900000e+01  \n",
       "mean   9.073249e+07  \n",
       "std    5.549842e+07  \n",
       "min    4.118180e+07  \n",
       "25%    5.363035e+07  \n",
       "50%    7.994330e+07  \n",
       "75%    9.549520e+07  \n",
       "max    2.464214e+08  "
      ]
     },
     "execution_count": 17,
     "metadata": {},
     "output_type": "execute_result"
    }
   ],
   "source": [
    "stock_data.describe()"
   ]
  },
  {
   "cell_type": "code",
   "execution_count": 19,
   "metadata": {
    "colab": {
     "base_uri": "https://localhost:8080/"
    },
    "id": "dFKhZw-YMM0w",
    "outputId": "6d9ed3ff-71bb-47ac-e3d1-728cd53046f8"
   },
   "outputs": [
    {
     "name": "stdout",
     "output_type": "stream",
     "text": [
      "19\n"
     ]
    }
   ],
   "source": [
    "stock_data_len = stock_data['Close'].count()\n",
    "print(stock_data_len)"
   ]
  },
  {
   "cell_type": "markdown",
   "metadata": {
    "id": "6jzF16Qr4qOA"
   },
   "source": [
    "I'm only interested in *close* prices"
   ]
  },
  {
   "cell_type": "code",
   "execution_count": 20,
   "metadata": {
    "colab": {
     "base_uri": "https://localhost:8080/"
    },
    "id": "Ns7Zcn2ZClZS",
    "outputId": "f2358850-8c82-4ad9-93ee-21086e73aadd"
   },
   "outputs": [
    {
     "name": "stdout",
     "output_type": "stream",
     "text": [
      "[[194.99000549]\n",
      " [195.32000732]\n",
      " [196.8999939 ]\n",
      " [196.5       ]\n",
      " [196.94000244]\n",
      " [197.30000305]\n",
      " [207.16000366]\n",
      " [220.19999695]\n",
      " [216.75      ]\n",
      " [215.16999817]\n",
      " [218.94999695]\n",
      " [218.63000488]\n",
      " [214.24000549]\n",
      " [211.88999939]\n",
      " [212.69999695]\n",
      " [211.38000488]\n",
      " [214.86000061]\n",
      " [215.74000549]\n",
      " [216.07000732]]\n"
     ]
    }
   ],
   "source": [
    "close_prices = stock_data.iloc[:, 1:2].values\n",
    "print(close_prices)"
   ]
  },
  {
   "cell_type": "markdown",
   "metadata": {
    "id": "KNaLuS1X5IVA"
   },
   "source": [
    "Of course, some of the weekdays might be public holidays in which case no price will be available. For this reason, we will fill the missing prices with the latest available prices"
   ]
  },
  {
   "cell_type": "code",
   "execution_count": 21,
   "metadata": {
    "colab": {
     "base_uri": "https://localhost:8080/"
    },
    "id": "P6GTsn7N5Nf2",
    "outputId": "d8762bbb-1c19-43e9-ab44-7a78e2467f22"
   },
   "outputs": [
    {
     "name": "stdout",
     "output_type": "stream",
     "text": [
      "DatetimeIndex(['2024-06-03', '2024-06-04', '2024-06-05', '2024-06-06',\n",
      "               '2024-06-07', '2024-06-10', '2024-06-11', '2024-06-12',\n",
      "               '2024-06-13', '2024-06-14', '2024-06-17', '2024-06-18',\n",
      "               '2024-06-19', '2024-06-20', '2024-06-21', '2024-06-24',\n",
      "               '2024-06-25', '2024-06-26', '2024-06-27', '2024-06-28'],\n",
      "              dtype='datetime64[ns]', freq='B')\n"
     ]
    }
   ],
   "source": [
    "all_bussinessdays = pd.date_range(start=start_date, end=end_date, freq='B')\n",
    "print(all_bussinessdays)"
   ]
  },
  {
   "cell_type": "code",
   "execution_count": 22,
   "metadata": {
    "id": "NDu-0h2i9MkT"
   },
   "outputs": [
    {
     "name": "stderr",
     "output_type": "stream",
     "text": [
      "C:\\Users\\johnd\\AppData\\Local\\Temp\\ipykernel_5444\\843666352.py:2: FutureWarning: DataFrame.fillna with 'method' is deprecated and will raise in a future version. Use obj.ffill() or obj.bfill() instead.\n",
      "  close_prices = stock_data.fillna(method='ffill')\n"
     ]
    }
   ],
   "source": [
    "close_prices = stock_data.reindex(all_bussinessdays)\n",
    "close_prices = stock_data.fillna(method='ffill')"
   ]
  },
  {
   "cell_type": "code",
   "execution_count": 23,
   "metadata": {
    "colab": {
     "base_uri": "https://localhost:8080/",
     "height": 394
    },
    "id": "xTieT-gC5e-p",
    "outputId": "2a69142e-c3b9-4d50-875d-0f16fef14637"
   },
   "outputs": [
    {
     "data": {
      "text/html": [
       "<div>\n",
       "<style scoped>\n",
       "    .dataframe tbody tr th:only-of-type {\n",
       "        vertical-align: middle;\n",
       "    }\n",
       "\n",
       "    .dataframe tbody tr th {\n",
       "        vertical-align: top;\n",
       "    }\n",
       "\n",
       "    .dataframe thead th {\n",
       "        text-align: right;\n",
       "    }\n",
       "</style>\n",
       "<table border=\"1\" class=\"dataframe\">\n",
       "  <thead>\n",
       "    <tr style=\"text-align: right;\">\n",
       "      <th></th>\n",
       "      <th>Open</th>\n",
       "      <th>High</th>\n",
       "      <th>Low</th>\n",
       "      <th>Close</th>\n",
       "      <th>Adj Close</th>\n",
       "      <th>Volume</th>\n",
       "    </tr>\n",
       "    <tr>\n",
       "      <th>Date</th>\n",
       "      <th></th>\n",
       "      <th></th>\n",
       "      <th></th>\n",
       "      <th></th>\n",
       "      <th></th>\n",
       "      <th></th>\n",
       "    </tr>\n",
       "  </thead>\n",
       "  <tbody>\n",
       "    <tr>\n",
       "      <th>2024-06-03</th>\n",
       "      <td>192.899994</td>\n",
       "      <td>194.990005</td>\n",
       "      <td>192.520004</td>\n",
       "      <td>194.029999</td>\n",
       "      <td>194.029999</td>\n",
       "      <td>50080500</td>\n",
       "    </tr>\n",
       "    <tr>\n",
       "      <th>2024-06-04</th>\n",
       "      <td>194.639999</td>\n",
       "      <td>195.320007</td>\n",
       "      <td>193.029999</td>\n",
       "      <td>194.350006</td>\n",
       "      <td>194.350006</td>\n",
       "      <td>47471400</td>\n",
       "    </tr>\n",
       "    <tr>\n",
       "      <th>2024-06-05</th>\n",
       "      <td>195.399994</td>\n",
       "      <td>196.899994</td>\n",
       "      <td>194.869995</td>\n",
       "      <td>195.869995</td>\n",
       "      <td>195.869995</td>\n",
       "      <td>54156800</td>\n",
       "    </tr>\n",
       "    <tr>\n",
       "      <th>2024-06-06</th>\n",
       "      <td>195.690002</td>\n",
       "      <td>196.500000</td>\n",
       "      <td>194.169998</td>\n",
       "      <td>194.479996</td>\n",
       "      <td>194.479996</td>\n",
       "      <td>41181800</td>\n",
       "    </tr>\n",
       "    <tr>\n",
       "      <th>2024-06-07</th>\n",
       "      <td>194.649994</td>\n",
       "      <td>196.940002</td>\n",
       "      <td>194.139999</td>\n",
       "      <td>196.889999</td>\n",
       "      <td>196.889999</td>\n",
       "      <td>53103900</td>\n",
       "    </tr>\n",
       "    <tr>\n",
       "      <th>2024-06-10</th>\n",
       "      <td>196.899994</td>\n",
       "      <td>197.300003</td>\n",
       "      <td>192.149994</td>\n",
       "      <td>193.119995</td>\n",
       "      <td>193.119995</td>\n",
       "      <td>97262100</td>\n",
       "    </tr>\n",
       "    <tr>\n",
       "      <th>2024-06-11</th>\n",
       "      <td>193.649994</td>\n",
       "      <td>207.160004</td>\n",
       "      <td>193.630005</td>\n",
       "      <td>207.149994</td>\n",
       "      <td>207.149994</td>\n",
       "      <td>172373300</td>\n",
       "    </tr>\n",
       "    <tr>\n",
       "      <th>2024-06-12</th>\n",
       "      <td>207.369995</td>\n",
       "      <td>220.199997</td>\n",
       "      <td>206.899994</td>\n",
       "      <td>213.070007</td>\n",
       "      <td>213.070007</td>\n",
       "      <td>198134300</td>\n",
       "    </tr>\n",
       "    <tr>\n",
       "      <th>2024-06-13</th>\n",
       "      <td>214.740005</td>\n",
       "      <td>216.750000</td>\n",
       "      <td>211.600006</td>\n",
       "      <td>214.240005</td>\n",
       "      <td>214.240005</td>\n",
       "      <td>97862700</td>\n",
       "    </tr>\n",
       "    <tr>\n",
       "      <th>2024-06-14</th>\n",
       "      <td>213.850006</td>\n",
       "      <td>215.169998</td>\n",
       "      <td>211.300003</td>\n",
       "      <td>212.490005</td>\n",
       "      <td>212.490005</td>\n",
       "      <td>70122700</td>\n",
       "    </tr>\n",
       "  </tbody>\n",
       "</table>\n",
       "</div>"
      ],
      "text/plain": [
       "                  Open        High         Low       Close   Adj Close  \\\n",
       "Date                                                                     \n",
       "2024-06-03  192.899994  194.990005  192.520004  194.029999  194.029999   \n",
       "2024-06-04  194.639999  195.320007  193.029999  194.350006  194.350006   \n",
       "2024-06-05  195.399994  196.899994  194.869995  195.869995  195.869995   \n",
       "2024-06-06  195.690002  196.500000  194.169998  194.479996  194.479996   \n",
       "2024-06-07  194.649994  196.940002  194.139999  196.889999  196.889999   \n",
       "2024-06-10  196.899994  197.300003  192.149994  193.119995  193.119995   \n",
       "2024-06-11  193.649994  207.160004  193.630005  207.149994  207.149994   \n",
       "2024-06-12  207.369995  220.199997  206.899994  213.070007  213.070007   \n",
       "2024-06-13  214.740005  216.750000  211.600006  214.240005  214.240005   \n",
       "2024-06-14  213.850006  215.169998  211.300003  212.490005  212.490005   \n",
       "\n",
       "               Volume  \n",
       "Date                   \n",
       "2024-06-03   50080500  \n",
       "2024-06-04   47471400  \n",
       "2024-06-05   54156800  \n",
       "2024-06-06   41181800  \n",
       "2024-06-07   53103900  \n",
       "2024-06-10   97262100  \n",
       "2024-06-11  172373300  \n",
       "2024-06-12  198134300  \n",
       "2024-06-13   97862700  \n",
       "2024-06-14   70122700  "
      ]
     },
     "execution_count": 23,
     "metadata": {},
     "output_type": "execute_result"
    }
   ],
   "source": [
    "close_prices.head(10)"
   ]
  },
  {
   "cell_type": "markdown",
   "metadata": {
    "id": "06xfVbrD51Id"
   },
   "source": [
    "The dataset is now complete and free of missing values. Let's have a look to the data frame summary:"
   ]
  },
  {
   "cell_type": "markdown",
   "metadata": {
    "id": "TR3_R4OF8pNo"
   },
   "source": [
    "## Feature scaling"
   ]
  },
  {
   "cell_type": "code",
   "execution_count": 24,
   "metadata": {
    "id": "hFwPXHiU8rDv"
   },
   "outputs": [],
   "source": [
    "training_set = close_prices.iloc[:, 1:2].values"
   ]
  },
  {
   "cell_type": "code",
   "execution_count": 25,
   "metadata": {
    "colab": {
     "base_uri": "https://localhost:8080/"
    },
    "id": "GvPn9l4d-NyM",
    "outputId": "3f7fe1de-e326-4bf2-fb75-55e7f149905a"
   },
   "outputs": [
    {
     "name": "stdout",
     "output_type": "stream",
     "text": [
      "[[194.99000549]\n",
      " [195.32000732]\n",
      " [196.8999939 ]\n",
      " [196.5       ]\n",
      " [196.94000244]\n",
      " [197.30000305]\n",
      " [207.16000366]\n",
      " [220.19999695]\n",
      " [216.75      ]\n",
      " [215.16999817]\n",
      " [218.94999695]\n",
      " [218.63000488]\n",
      " [214.24000549]\n",
      " [211.88999939]\n",
      " [212.69999695]\n",
      " [211.38000488]\n",
      " [214.86000061]\n",
      " [215.74000549]\n",
      " [216.07000732]]\n"
     ]
    }
   ],
   "source": [
    "print(training_set)"
   ]
  },
  {
   "cell_type": "code",
   "execution_count": 26,
   "metadata": {
    "colab": {
     "base_uri": "https://localhost:8080/"
    },
    "id": "c9TpiTPs9QtF",
    "outputId": "d0283d23-08cc-445d-caf8-b95892bab67f"
   },
   "outputs": [
    {
     "name": "stdout",
     "output_type": "stream",
     "text": [
      "(19, 1)\n"
     ]
    }
   ],
   "source": [
    "from sklearn.preprocessing import MinMaxScaler\n",
    "sc = MinMaxScaler(feature_range = (0, 1))\n",
    "training_set_scaled = sc.fit_transform(training_set)\n",
    "print(training_set_scaled.shape)"
   ]
  },
  {
   "cell_type": "markdown",
   "metadata": {
    "id": "NmYp53pYHeQu"
   },
   "source": [
    "LSTMs expect the data in a specific format, usually a 3D tensor. I start by creating data with 60 days and converting it into an array using NumPy. Next, I convert the data into a 3D dimension array with feature_set samples, 60 days and one feature at each step."
   ]
  },
  {
   "cell_type": "code",
   "execution_count": 27,
   "metadata": {
    "id": "HSZBYUcIDfWV"
   },
   "outputs": [
    {
     "ename": "IndexError",
     "evalue": "tuple index out of range",
     "output_type": "error",
     "traceback": [
      "\u001b[1;31m---------------------------------------------------------------------------\u001b[0m",
      "\u001b[1;31mIndexError\u001b[0m                                Traceback (most recent call last)",
      "Cell \u001b[1;32mIn[27], line 10\u001b[0m\n\u001b[0;32m      7\u001b[0m features \u001b[38;5;241m=\u001b[39m np\u001b[38;5;241m.\u001b[39marray(features)\n\u001b[0;32m      8\u001b[0m labels \u001b[38;5;241m=\u001b[39m np\u001b[38;5;241m.\u001b[39marray(labels)\n\u001b[1;32m---> 10\u001b[0m features \u001b[38;5;241m=\u001b[39m np\u001b[38;5;241m.\u001b[39mreshape(features, (features\u001b[38;5;241m.\u001b[39mshape[\u001b[38;5;241m0\u001b[39m], \u001b[43mfeatures\u001b[49m\u001b[38;5;241;43m.\u001b[39;49m\u001b[43mshape\u001b[49m\u001b[43m[\u001b[49m\u001b[38;5;241;43m1\u001b[39;49m\u001b[43m]\u001b[49m, \u001b[38;5;241m1\u001b[39m))\n",
      "\u001b[1;31mIndexError\u001b[0m: tuple index out of range"
     ]
    }
   ],
   "source": [
    "features = []\n",
    "labels = []\n",
    "for i in range(60, stock_data_len):\n",
    "    features.append(training_set_scaled[i-60:i, 0])\n",
    "    labels.append(training_set_scaled[i, 0])\n",
    "\n",
    "features = np.array(features)\n",
    "labels = np.array(labels)\n",
    "\n",
    "features = np.reshape(features, (features.shape[0], features.shape[1], 1))"
   ]
  },
  {
   "cell_type": "code",
   "execution_count": 28,
   "metadata": {
    "colab": {
     "base_uri": "https://localhost:8080/"
    },
    "id": "gi-GwAE_LDZm",
    "outputId": "17fe9fe9-65e3-4090-db09-b616c4528d24"
   },
   "outputs": [
    {
     "name": "stdout",
     "output_type": "stream",
     "text": [
      "[]\n"
     ]
    }
   ],
   "source": [
    "print(labels)"
   ]
  },
  {
   "cell_type": "code",
   "execution_count": 29,
   "metadata": {
    "colab": {
     "base_uri": "https://localhost:8080/"
    },
    "id": "atE8xU7HLuI2",
    "outputId": "6504c13e-c4ad-4de3-d3a0-0e0b647b2150"
   },
   "outputs": [
    {
     "name": "stdout",
     "output_type": "stream",
     "text": [
      "[]\n"
     ]
    }
   ],
   "source": [
    "print(features)"
   ]
  },
  {
   "cell_type": "markdown",
   "metadata": {
    "id": "tfK2gzVI_sTX"
   },
   "source": [
    "Feature tensor with three dimension: features[0] contains the ..., features[1] contains the last 60 days of values and features [2] contains the  ..."
   ]
  },
  {
   "cell_type": "code",
   "execution_count": 30,
   "metadata": {
    "colab": {
     "base_uri": "https://localhost:8080/"
    },
    "id": "VlzVripUIyCb",
    "outputId": "7aba8b29-8287-4322-9d2f-734dc5825127"
   },
   "outputs": [
    {
     "name": "stdout",
     "output_type": "stream",
     "text": [
      "(0,)\n"
     ]
    }
   ],
   "source": [
    "print(features.shape)"
   ]
  },
  {
   "cell_type": "markdown",
   "metadata": {
    "id": "-MQYJqsDGFYA"
   },
   "source": [
    "## Create the LSTM network\n",
    "Let's create a sequenced LSTM network with 50 units. Also the net includes some dropout layers with 0.2 which means that 20% of the neurons will be dropped."
   ]
  },
  {
   "cell_type": "code",
   "execution_count": 29,
   "metadata": {
    "id": "057FLdkzDk1t"
   },
   "outputs": [],
   "source": [
    "import tensorflow as tf"
   ]
  },
  {
   "cell_type": "code",
   "execution_count": 30,
   "metadata": {
    "id": "Tel113HiEcYE"
   },
   "outputs": [
    {
     "name": "stderr",
     "output_type": "stream",
     "text": [
      "C:\\Users\\johnd\\anaconda3\\envs\\CeCodeAI\\lib\\site-packages\\keras\\src\\layers\\rnn\\rnn.py:205: UserWarning: Do not pass an `input_shape`/`input_dim` argument to a layer. When using Sequential models, prefer using an `Input(shape)` object as the first layer in the model instead.\n",
      "  super().__init__(**kwargs)\n"
     ]
    }
   ],
   "source": [
    "model = tf.keras.models.Sequential([\n",
    "    tf.keras.layers.LSTM(units = 50, return_sequences = True, input_shape = (features.shape[1], 1)),\n",
    "    tf.keras.layers.Dropout(0.2),\n",
    "    tf.keras.layers.LSTM(units = 50, return_sequences = True),\n",
    "    tf.keras.layers.Dropout(0.2),\n",
    "    tf.keras.layers.LSTM(units = 50, return_sequences = True),\n",
    "    tf.keras.layers.Dropout(0.2),\n",
    "    tf.keras.layers.LSTM(units = 50),\n",
    "    tf.keras.layers.Dropout(0.2),\n",
    "    tf.keras.layers.Dense(units = 1)\n",
    "])"
   ]
  },
  {
   "cell_type": "code",
   "execution_count": 31,
   "metadata": {
    "colab": {
     "base_uri": "https://localhost:8080/"
    },
    "id": "7nlzkKHiPuaR",
    "outputId": "35fd53ac-2320-4f42-f325-b8b4e668c6b5"
   },
   "outputs": [
    {
     "data": {
      "text/html": [
       "<pre style=\"white-space:pre;overflow-x:auto;line-height:normal;font-family:Menlo,'DejaVu Sans Mono',consolas,'Courier New',monospace\"><span style=\"font-weight: bold\">Model: \"sequential\"</span>\n",
       "</pre>\n"
      ],
      "text/plain": [
       "\u001b[1mModel: \"sequential\"\u001b[0m\n"
      ]
     },
     "metadata": {},
     "output_type": "display_data"
    },
    {
     "data": {
      "text/html": [
       "<pre style=\"white-space:pre;overflow-x:auto;line-height:normal;font-family:Menlo,'DejaVu Sans Mono',consolas,'Courier New',monospace\">┏━━━━━━━━━━━━━━━━━━━━━━━━━━━━━━━━━┳━━━━━━━━━━━━━━━━━━━━━━━━┳━━━━━━━━━━━━━━━┓\n",
       "┃<span style=\"font-weight: bold\"> Layer (type)                    </span>┃<span style=\"font-weight: bold\"> Output Shape           </span>┃<span style=\"font-weight: bold\">       Param # </span>┃\n",
       "┡━━━━━━━━━━━━━━━━━━━━━━━━━━━━━━━━━╇━━━━━━━━━━━━━━━━━━━━━━━━╇━━━━━━━━━━━━━━━┩\n",
       "│ lstm (<span style=\"color: #0087ff; text-decoration-color: #0087ff\">LSTM</span>)                     │ (<span style=\"color: #00d7ff; text-decoration-color: #00d7ff\">None</span>, <span style=\"color: #00af00; text-decoration-color: #00af00\">60</span>, <span style=\"color: #00af00; text-decoration-color: #00af00\">50</span>)         │        <span style=\"color: #00af00; text-decoration-color: #00af00\">10,400</span> │\n",
       "├─────────────────────────────────┼────────────────────────┼───────────────┤\n",
       "│ dropout (<span style=\"color: #0087ff; text-decoration-color: #0087ff\">Dropout</span>)               │ (<span style=\"color: #00d7ff; text-decoration-color: #00d7ff\">None</span>, <span style=\"color: #00af00; text-decoration-color: #00af00\">60</span>, <span style=\"color: #00af00; text-decoration-color: #00af00\">50</span>)         │             <span style=\"color: #00af00; text-decoration-color: #00af00\">0</span> │\n",
       "├─────────────────────────────────┼────────────────────────┼───────────────┤\n",
       "│ lstm_1 (<span style=\"color: #0087ff; text-decoration-color: #0087ff\">LSTM</span>)                   │ (<span style=\"color: #00d7ff; text-decoration-color: #00d7ff\">None</span>, <span style=\"color: #00af00; text-decoration-color: #00af00\">60</span>, <span style=\"color: #00af00; text-decoration-color: #00af00\">50</span>)         │        <span style=\"color: #00af00; text-decoration-color: #00af00\">20,200</span> │\n",
       "├─────────────────────────────────┼────────────────────────┼───────────────┤\n",
       "│ dropout_1 (<span style=\"color: #0087ff; text-decoration-color: #0087ff\">Dropout</span>)             │ (<span style=\"color: #00d7ff; text-decoration-color: #00d7ff\">None</span>, <span style=\"color: #00af00; text-decoration-color: #00af00\">60</span>, <span style=\"color: #00af00; text-decoration-color: #00af00\">50</span>)         │             <span style=\"color: #00af00; text-decoration-color: #00af00\">0</span> │\n",
       "├─────────────────────────────────┼────────────────────────┼───────────────┤\n",
       "│ lstm_2 (<span style=\"color: #0087ff; text-decoration-color: #0087ff\">LSTM</span>)                   │ (<span style=\"color: #00d7ff; text-decoration-color: #00d7ff\">None</span>, <span style=\"color: #00af00; text-decoration-color: #00af00\">60</span>, <span style=\"color: #00af00; text-decoration-color: #00af00\">50</span>)         │        <span style=\"color: #00af00; text-decoration-color: #00af00\">20,200</span> │\n",
       "├─────────────────────────────────┼────────────────────────┼───────────────┤\n",
       "│ dropout_2 (<span style=\"color: #0087ff; text-decoration-color: #0087ff\">Dropout</span>)             │ (<span style=\"color: #00d7ff; text-decoration-color: #00d7ff\">None</span>, <span style=\"color: #00af00; text-decoration-color: #00af00\">60</span>, <span style=\"color: #00af00; text-decoration-color: #00af00\">50</span>)         │             <span style=\"color: #00af00; text-decoration-color: #00af00\">0</span> │\n",
       "├─────────────────────────────────┼────────────────────────┼───────────────┤\n",
       "│ lstm_3 (<span style=\"color: #0087ff; text-decoration-color: #0087ff\">LSTM</span>)                   │ (<span style=\"color: #00d7ff; text-decoration-color: #00d7ff\">None</span>, <span style=\"color: #00af00; text-decoration-color: #00af00\">50</span>)             │        <span style=\"color: #00af00; text-decoration-color: #00af00\">20,200</span> │\n",
       "├─────────────────────────────────┼────────────────────────┼───────────────┤\n",
       "│ dropout_3 (<span style=\"color: #0087ff; text-decoration-color: #0087ff\">Dropout</span>)             │ (<span style=\"color: #00d7ff; text-decoration-color: #00d7ff\">None</span>, <span style=\"color: #00af00; text-decoration-color: #00af00\">50</span>)             │             <span style=\"color: #00af00; text-decoration-color: #00af00\">0</span> │\n",
       "├─────────────────────────────────┼────────────────────────┼───────────────┤\n",
       "│ dense (<span style=\"color: #0087ff; text-decoration-color: #0087ff\">Dense</span>)                   │ (<span style=\"color: #00d7ff; text-decoration-color: #00d7ff\">None</span>, <span style=\"color: #00af00; text-decoration-color: #00af00\">1</span>)              │            <span style=\"color: #00af00; text-decoration-color: #00af00\">51</span> │\n",
       "└─────────────────────────────────┴────────────────────────┴───────────────┘\n",
       "</pre>\n"
      ],
      "text/plain": [
       "┏━━━━━━━━━━━━━━━━━━━━━━━━━━━━━━━━━┳━━━━━━━━━━━━━━━━━━━━━━━━┳━━━━━━━━━━━━━━━┓\n",
       "┃\u001b[1m \u001b[0m\u001b[1mLayer (type)                   \u001b[0m\u001b[1m \u001b[0m┃\u001b[1m \u001b[0m\u001b[1mOutput Shape          \u001b[0m\u001b[1m \u001b[0m┃\u001b[1m \u001b[0m\u001b[1m      Param #\u001b[0m\u001b[1m \u001b[0m┃\n",
       "┡━━━━━━━━━━━━━━━━━━━━━━━━━━━━━━━━━╇━━━━━━━━━━━━━━━━━━━━━━━━╇━━━━━━━━━━━━━━━┩\n",
       "│ lstm (\u001b[38;5;33mLSTM\u001b[0m)                     │ (\u001b[38;5;45mNone\u001b[0m, \u001b[38;5;34m60\u001b[0m, \u001b[38;5;34m50\u001b[0m)         │        \u001b[38;5;34m10,400\u001b[0m │\n",
       "├─────────────────────────────────┼────────────────────────┼───────────────┤\n",
       "│ dropout (\u001b[38;5;33mDropout\u001b[0m)               │ (\u001b[38;5;45mNone\u001b[0m, \u001b[38;5;34m60\u001b[0m, \u001b[38;5;34m50\u001b[0m)         │             \u001b[38;5;34m0\u001b[0m │\n",
       "├─────────────────────────────────┼────────────────────────┼───────────────┤\n",
       "│ lstm_1 (\u001b[38;5;33mLSTM\u001b[0m)                   │ (\u001b[38;5;45mNone\u001b[0m, \u001b[38;5;34m60\u001b[0m, \u001b[38;5;34m50\u001b[0m)         │        \u001b[38;5;34m20,200\u001b[0m │\n",
       "├─────────────────────────────────┼────────────────────────┼───────────────┤\n",
       "│ dropout_1 (\u001b[38;5;33mDropout\u001b[0m)             │ (\u001b[38;5;45mNone\u001b[0m, \u001b[38;5;34m60\u001b[0m, \u001b[38;5;34m50\u001b[0m)         │             \u001b[38;5;34m0\u001b[0m │\n",
       "├─────────────────────────────────┼────────────────────────┼───────────────┤\n",
       "│ lstm_2 (\u001b[38;5;33mLSTM\u001b[0m)                   │ (\u001b[38;5;45mNone\u001b[0m, \u001b[38;5;34m60\u001b[0m, \u001b[38;5;34m50\u001b[0m)         │        \u001b[38;5;34m20,200\u001b[0m │\n",
       "├─────────────────────────────────┼────────────────────────┼───────────────┤\n",
       "│ dropout_2 (\u001b[38;5;33mDropout\u001b[0m)             │ (\u001b[38;5;45mNone\u001b[0m, \u001b[38;5;34m60\u001b[0m, \u001b[38;5;34m50\u001b[0m)         │             \u001b[38;5;34m0\u001b[0m │\n",
       "├─────────────────────────────────┼────────────────────────┼───────────────┤\n",
       "│ lstm_3 (\u001b[38;5;33mLSTM\u001b[0m)                   │ (\u001b[38;5;45mNone\u001b[0m, \u001b[38;5;34m50\u001b[0m)             │        \u001b[38;5;34m20,200\u001b[0m │\n",
       "├─────────────────────────────────┼────────────────────────┼───────────────┤\n",
       "│ dropout_3 (\u001b[38;5;33mDropout\u001b[0m)             │ (\u001b[38;5;45mNone\u001b[0m, \u001b[38;5;34m50\u001b[0m)             │             \u001b[38;5;34m0\u001b[0m │\n",
       "├─────────────────────────────────┼────────────────────────┼───────────────┤\n",
       "│ dense (\u001b[38;5;33mDense\u001b[0m)                   │ (\u001b[38;5;45mNone\u001b[0m, \u001b[38;5;34m1\u001b[0m)              │            \u001b[38;5;34m51\u001b[0m │\n",
       "└─────────────────────────────────┴────────────────────────┴───────────────┘\n"
      ]
     },
     "metadata": {},
     "output_type": "display_data"
    },
    {
     "data": {
      "text/html": [
       "<pre style=\"white-space:pre;overflow-x:auto;line-height:normal;font-family:Menlo,'DejaVu Sans Mono',consolas,'Courier New',monospace\"><span style=\"font-weight: bold\"> Total params: </span><span style=\"color: #00af00; text-decoration-color: #00af00\">71,051</span> (277.54 KB)\n",
       "</pre>\n"
      ],
      "text/plain": [
       "\u001b[1m Total params: \u001b[0m\u001b[38;5;34m71,051\u001b[0m (277.54 KB)\n"
      ]
     },
     "metadata": {},
     "output_type": "display_data"
    },
    {
     "data": {
      "text/html": [
       "<pre style=\"white-space:pre;overflow-x:auto;line-height:normal;font-family:Menlo,'DejaVu Sans Mono',consolas,'Courier New',monospace\"><span style=\"font-weight: bold\"> Trainable params: </span><span style=\"color: #00af00; text-decoration-color: #00af00\">71,051</span> (277.54 KB)\n",
       "</pre>\n"
      ],
      "text/plain": [
       "\u001b[1m Trainable params: \u001b[0m\u001b[38;5;34m71,051\u001b[0m (277.54 KB)\n"
      ]
     },
     "metadata": {},
     "output_type": "display_data"
    },
    {
     "data": {
      "text/html": [
       "<pre style=\"white-space:pre;overflow-x:auto;line-height:normal;font-family:Menlo,'DejaVu Sans Mono',consolas,'Courier New',monospace\"><span style=\"font-weight: bold\"> Non-trainable params: </span><span style=\"color: #00af00; text-decoration-color: #00af00\">0</span> (0.00 B)\n",
       "</pre>\n"
      ],
      "text/plain": [
       "\u001b[1m Non-trainable params: \u001b[0m\u001b[38;5;34m0\u001b[0m (0.00 B)\n"
      ]
     },
     "metadata": {},
     "output_type": "display_data"
    },
    {
     "name": "stdout",
     "output_type": "stream",
     "text": [
      "None\n"
     ]
    }
   ],
   "source": [
    "print(model.summary())"
   ]
  },
  {
   "cell_type": "code",
   "execution_count": 32,
   "metadata": {},
   "outputs": [],
   "source": [
    "#!pip install plot_model"
   ]
  },
  {
   "cell_type": "code",
   "execution_count": 33,
   "metadata": {
    "id": "5W-xbus6hr3B"
   },
   "outputs": [
    {
     "data": {
      "image/png": "[encoded data removed]",
      "text/plain": [
       "<IPython.core.display.Image object>"
      ]
     },
     "execution_count": 33,
     "metadata": {},
     "output_type": "execute_result"
    }
   ],
   "source": [
    "tf.keras.utils.plot_model(model, to_file='my_model.png')\n"
   ]
  },
  {
   "cell_type": "code",
   "execution_count": 34,
   "metadata": {
    "id": "Dh55JJQwpK5-"
   },
   "outputs": [],
   "source": [
    "#Run tensorboard with the logdir\n",
    "import os\n",
    "LOG_BASE_DIR = './log'\n",
    "os.makedirs(LOG_BASE_DIR, exist_ok=True)"
   ]
  },
  {
   "cell_type": "code",
   "execution_count": 35,
   "metadata": {
    "id": "z8f8PuP0tuxv"
   },
   "outputs": [
    {
     "name": "stdout",
     "output_type": "stream",
     "text": [
      " Volume in drive C is Local Disk\n",
      " Volume Serial Number is 305F-64EF\n",
      "\n",
      " Directory of C:\\Users\\johnd\\OneDrive\\CeCodeAI\\StockPricePrediction_Test\n",
      "\n",
      "\n",
      " Directory of C:\\Users\\johnd\\OneDrive\\CeCodeAI\\StockPricePrediction_Test\\log\n",
      "\n",
      "06/15/2024  03:48 PM    <DIR>          .\n",
      "06/15/2024  10:45 PM    <DIR>          ..\n",
      "               0 File(s)              0 bytes\n",
      "               2 Dir(s)  247,051,317,248 bytes free\n"
     ]
    },
    {
     "name": "stderr",
     "output_type": "stream",
     "text": [
      "File Not Found\n"
     ]
    }
   ],
   "source": [
    "!dir -l log"
   ]
  },
  {
   "cell_type": "markdown",
   "metadata": {
    "id": "MtpzRCsqvjnQ"
   },
   "source": [
    "## Load the Colab TensorBoard extention and start TensorBoard inline"
   ]
  },
  {
   "cell_type": "code",
   "execution_count": 36,
   "metadata": {
    "id": "AxpGbuaSr9uc"
   },
   "outputs": [
    {
     "data": {
      "text/plain": [
       "Reusing TensorBoard on port 6006 (pid 17516), started 6:57:09 ago. (Use '!kill 17516' to kill it.)"
      ]
     },
     "metadata": {},
     "output_type": "display_data"
    },
    {
     "data": {
      "text/html": [
       "\n",
       "      <iframe id=\"tensorboard-frame-19a25eb283ad1dbf\" width=\"100%\" height=\"800\" frameborder=\"0\">\n",
       "      </iframe>\n",
       "      <script>\n",
       "        (function() {\n",
       "          const frame = document.getElementById(\"tensorboard-frame-19a25eb283ad1dbf\");\n",
       "          const url = new URL(\"/\", window.location);\n",
       "          const port = 6006;\n",
       "          if (port) {\n",
       "            url.port = port;\n",
       "          }\n",
       "          frame.src = url;\n",
       "        })();\n",
       "      </script>\n",
       "    "
      ],
      "text/plain": [
       "<IPython.core.display.HTML object>"
      ]
     },
     "metadata": {},
     "output_type": "display_data"
    }
   ],
   "source": [
    "#%load_ext tensorboard.notebook\n",
    "%load_ext tensorboard\n",
    "%tensorboard --logdir {LOG_BASE_DIR}"
   ]
  },
  {
   "cell_type": "markdown",
   "metadata": {
    "id": "KG7MP-S0oVAv"
   },
   "source": [
    "## Define a TensorBoard callback"
   ]
  },
  {
   "cell_type": "code",
   "execution_count": 37,
   "metadata": {
    "id": "Ju7MktT7sX1s"
   },
   "outputs": [],
   "source": [
    "import datetime\n",
    "logdir = os.path.join(LOG_BASE_DIR, datetime.datetime.now().strftime(\"%Y%m%d-%H%M%S\"))"
   ]
  },
  {
   "cell_type": "code",
   "execution_count": 38,
   "metadata": {
    "id": "eUl1ilfJnYrR"
   },
   "outputs": [],
   "source": [
    "from tensorflow.keras.callbacks import TensorBoard\n",
    "\n",
    "tbCallBack = TensorBoard(logdir,histogram_freq=1)"
   ]
  },
  {
   "cell_type": "markdown",
   "metadata": {
    "id": "TVtDPeEZGmqP"
   },
   "source": [
    "The model will be compiled and optimize by the adam optimizer and set the loss function as mean_squarred_error"
   ]
  },
  {
   "cell_type": "code",
   "execution_count": 39,
   "metadata": {
    "id": "lj9k7R5UFrqO"
   },
   "outputs": [],
   "source": [
    "model.compile(optimizer = 'adam', loss = 'mean_squared_error')"
   ]
  },
  {
   "cell_type": "code",
   "execution_count": 40,
   "metadata": {
    "id": "eW4rvRXENWYC"
   },
   "outputs": [
    {
     "name": "stdout",
     "output_type": "stream",
     "text": [
      "environ({'ALLUSERSPROFILE': 'C:\\\\ProgramData', 'APPDATA': 'C:\\\\Users\\\\johnd\\\\AppData\\\\Roaming', 'CHOCOLATEYINSTALL': 'C:\\\\ProgramData\\\\chocolatey', 'CHOCOLATEYLASTPATHUPDATE': '133325231900070460', 'COMMONPROGRAMFILES': 'C:\\\\Program Files\\\\Common Files', 'COMMONPROGRAMFILES(X86)': 'C:\\\\Program Files (x86)\\\\Common Files', 'COMMONPROGRAMW6432': 'C:\\\\Program Files\\\\Common Files', 'COMPUTERNAME': 'TABLET-27I2AP6V', 'COMSPEC': 'C:\\\\WINDOWS\\\\system32\\\\cmd.exe', 'CONDA_BAT': 'C:\\\\Users\\\\johnd\\\\anaconda3\\\\condabin\\\\conda.bat', 'CONDA_DEFAULT_ENV': 'base', 'CONDA_EXE': 'C:\\\\Users\\\\johnd\\\\anaconda3\\\\Scripts\\\\conda.exe', 'CONDA_PREFIX': 'C:\\\\Users\\\\johnd\\\\anaconda3', 'CONDA_PROMPT_MODIFIER': '(base) ', 'CONDA_PYTHON_EXE': 'C:\\\\Users\\\\johnd\\\\anaconda3\\\\python.exe', 'CONDA_SHLVL': '1', 'DRIVERDATA': 'C:\\\\Windows\\\\System32\\\\Drivers\\\\DriverData', 'EFC_11908': '1', 'HADOOP_HOME': 'C:\\\\Users\\\\johnd\\\\Local_Development\\\\winutils\\\\hadoop-3.4.0-win10-x64', 'HOMEDRIVE': 'C:', 'HOMEPATH': '\\\\Users\\\\johnd', 'JAVA_HOME': 'C:\\\\Users\\\\johnd\\\\Local_Development\\\\Java\\\\jdk-1.8', 'JUPYTERLAB_WORKSPACES_DIR': 'C:\\\\Users\\\\johnd\\\\OneDrive\\\\CeCodeAI\\\\.jupyter\\\\desktop-workspaces', 'JUPYTER_CONFIG_DIR': 'C:\\\\Users\\\\johnd\\\\AppData\\\\Roaming\\\\jupyterlab-desktop', 'LOCALAPPDATA': 'C:\\\\Users\\\\johnd\\\\AppData\\\\Local', 'LOGONSERVER': '\\\\\\\\TABLET-27I2AP6V', 'NUMBER_OF_PROCESSORS': '8', 'ONEDRIVE': 'C:\\\\Users\\\\johnd\\\\OneDrive', 'ONEDRIVECONSUMER': 'C:\\\\Users\\\\johnd\\\\OneDrive', 'ORIGINAL_XDG_CURRENT_DESKTOP': 'undefined', 'OS': 'Windows_NT', 'PATH': 'C:\\\\Users\\\\johnd\\\\anaconda3;C:\\\\Users\\\\johnd\\\\anaconda3\\\\Library\\\\mingw-w64\\\\bin;C:\\\\Users\\\\johnd\\\\anaconda3\\\\Library\\\\usr\\\\bin;C:\\\\Users\\\\johnd\\\\anaconda3\\\\Library\\\\bin;C:\\\\Users\\\\johnd\\\\anaconda3\\\\Scripts;C:\\\\Users\\\\johnd\\\\anaconda3\\\\bin;C:\\\\Users\\\\johnd\\\\anaconda3\\\\condabin;C:\\\\Program Files (x86)\\\\Common Files\\\\Oracle\\\\Java\\\\javapath;C:\\\\WINDOWS\\\\system32;C:\\\\WINDOWS;C:\\\\WINDOWS\\\\System32\\\\Wbem;C:\\\\WINDOWS\\\\System32\\\\WindowsPowerShell\\\\v1.0;C:\\\\WINDOWS\\\\System32\\\\OpenSSH;C:\\\\Users\\\\johnd\\\\Microsoft VS Code\\\\bin;C:\\\\Program Files\\\\dotnet;C:\\\\Users\\\\johnd\\\\Local_Development\\\\Java\\\\jdk-1.8\\\\bin;C:\\\\Users\\\\johnd\\\\Local_Development\\\\spark3\\\\bin;C:\\\\Users\\\\johnd\\\\Local_Development\\\\winutils\\\\hadoop-3.4.0-win10-x64\\\\bin;C:\\\\Program Files\\\\Microsoft SQL Server\\\\150\\\\Tools\\\\Binn;C:\\\\ProgramData\\\\chocolatey\\\\bin;C:\\\\Program Files\\\\Pandoc;C:\\\\Program Files\\\\Graphviz\\\\bin;C:\\\\Program Files\\\\Docker\\\\Docker\\\\resources\\\\bin;C:\\\\Program Files\\\\Git\\\\cmd;C:\\\\Program Files (x86)\\\\Windows Kits\\\\10\\\\Windows Performance Toolkit;C:\\\\JupyterLab;C:\\\\Users\\\\johnd\\\\AppData\\\\Local\\\\Microsoft\\\\WindowsApps;C:\\\\Users\\\\johnd\\\\.dotnet\\\\tools;C:\\\\Users\\\\johnd\\\\AppData\\\\Local\\\\JetBrains\\\\Toolbox\\\\scripts;C:\\\\Users\\\\johnd\\\\.dotnet\\\\tools;C:\\\\Users\\\\johnd\\\\AppData\\\\Local\\\\Programs\\\\MiKTeX\\\\miktex\\\\bin\\\\x64;C:\\\\Users\\\\johnd\\\\AppData\\\\Local\\\\Programs\\\\MiKTeX;C:\\\\Users\\\\johnd\\\\AppData\\\\Local\\\\Microsoft\\\\WindowsApps;C:\\\\TWS API\\\\source\\\\pythonclient;.', 'PATHEXT': '.COM;.EXE;.BAT;.CMD;.VBS;.VBE;.JS;.JSE;.WSF;.WSH;.MSC', 'PROCESSOR_ARCHITECTURE': 'AMD64', 'PROCESSOR_IDENTIFIER': 'Intel64 Family 6 Model 126 Stepping 5, GenuineIntel', 'PROCESSOR_LEVEL': '6', 'PROCESSOR_REVISION': '7e05', 'PROGF81DEF27053': '1', 'PROGRAMDATA': 'C:\\\\ProgramData', 'PROGRAMFILES': 'C:\\\\Program Files', 'PROGRAMFILES(X86)': 'C:\\\\Program Files (x86)', 'PROGRAMW6432': 'C:\\\\Program Files', 'PROMPT': '(base) $P$G', 'PSMODULEPATH': 'C:\\\\Program Files\\\\WindowsPowerShell\\\\Modules;C:\\\\WINDOWS\\\\system32\\\\WindowsPowerShell\\\\v1.0\\\\Modules', 'PUBLIC': 'C:\\\\Users\\\\Public', 'SESSIONNAME': 'Console', 'SPARK_HOME': 'C:\\\\Users\\\\johnd\\\\Local_Development\\\\spark3', 'SSL_CERT_DIR': 'C:\\\\Users\\\\johnd\\\\anaconda3\\\\Library\\\\ssl\\\\certs', 'SSL_CERT_FILE': 'C:\\\\Users\\\\johnd\\\\anaconda3\\\\Library\\\\ssl\\\\cacert.pem', 'SYSTEMDRIVE': 'C:', 'SYSTEMROOT': 'C:\\\\WINDOWS', 'TA_INCLUDE_PATH': 'C:\\\\ta-lib\\\\c\\\\include', 'TA_LIBRARY_PATH': 'C:\\\\ta-lib\\\\c\\\\lib', 'TEMP': 'C:\\\\Users\\\\johnd\\\\AppData\\\\Local\\\\Temp', 'TMP': 'C:\\\\Users\\\\johnd\\\\AppData\\\\Local\\\\Temp', 'USERDOMAIN': 'TABLET-27I2AP6V', 'USERDOMAIN_ROAMINGPROFILE': 'TABLET-27I2AP6V', 'USERNAME': 'johnd', 'USERPROFILE': 'C:\\\\Users\\\\johnd', 'WINDIR': 'C:\\\\WINDOWS', '__CONDA_OPENSSL_CERT_DIR_SET': '\"1\"', '__CONDA_OPENSSL_CERT_FILE_SET': '\"1\"', '__PSLOCKDOWNPOLICY': '0', 'GIT_PYTHON_REFRESH': 'quiet', 'PYDEVD_USE_FRAME_EVAL': 'NO', 'JPY_SESSION_NAME': 'C:\\\\Users\\\\johnd\\\\OneDrive\\\\CeCodeAI\\\\StockPricePrediction_Test\\\\stock_price_prediction_keras.ipynb', 'JPY_INTERRUPT_EVENT': '3304', 'IPY_INTERRUPT_EVENT': '3304', 'JPY_PARENT_PID': '3268', 'TERM': 'xterm-color', 'CLICOLOR': '1', 'FORCE_COLOR': '1', 'CLICOLOR_FORCE': '1', 'PAGER': 'cat', 'GIT_PAGER': 'cat', 'MPLBACKEND': 'module://matplotlib_inline.backend_inline', 'TF2_BEHAVIOR': '1', 'TPU_ML_PLATFORM': 'Tensorflow', 'KMP_DUPLICATE_LIB_OK': 'True', 'KMP_INIT_AT_FORK': 'FALSE'})\n"
     ]
    }
   ],
   "source": [
    "import os\n",
    "print(os.environ)"
   ]
  },
  {
   "cell_type": "code",
   "execution_count": 41,
   "metadata": {
    "id": "3pMuiSsIOAJa"
   },
   "outputs": [
    {
     "data": {
      "text/plain": [
       "''"
      ]
     },
     "execution_count": 41,
     "metadata": {},
     "output_type": "execute_result"
    }
   ],
   "source": [
    "\n",
    "tf.test.gpu_device_name()"
   ]
  },
  {
   "cell_type": "code",
   "execution_count": 42,
   "metadata": {
    "id": "k3Od5nUSVlJ6"
   },
   "outputs": [
    {
     "data": {
      "text/plain": [
       "[name: \"/device:CPU:0\"\n",
       " device_type: \"CPU\"\n",
       " memory_limit: 268435456\n",
       " locality {\n",
       " }\n",
       " incarnation: 13669744233362503764\n",
       " xla_global_id: -1]"
      ]
     },
     "execution_count": 42,
     "metadata": {},
     "output_type": "execute_result"
    }
   ],
   "source": [
    "from tensorflow.python.client import device_lib\n",
    "device_lib.list_local_devices()"
   ]
  },
  {
   "cell_type": "code",
   "execution_count": 43,
   "metadata": {
    "colab": {
     "base_uri": "https://localhost:8080/"
    },
    "id": "vdatQv4CTSvn",
    "outputId": "6bf80221-9cf7-45c1-b688-7ed962fb1d47"
   },
   "outputs": [
    {
     "name": "stdout",
     "output_type": "stream",
     "text": [
      "Epoch 1/20\n",
      "\u001b[1m141/141\u001b[0m \u001b[32m━━━━━━━━━━━━━━━━━━━━\u001b[0m\u001b[37m\u001b[0m \u001b[1m13s\u001b[0m 58ms/step - loss: 0.0437\n",
      "Epoch 2/20\n",
      "\u001b[1m141/141\u001b[0m \u001b[32m━━━━━━━━━━━━━━━━━━━━\u001b[0m\u001b[37m\u001b[0m \u001b[1m8s\u001b[0m 57ms/step - loss: 0.0058\n",
      "Epoch 3/20\n",
      "\u001b[1m141/141\u001b[0m \u001b[32m━━━━━━━━━━━━━━━━━━━━\u001b[0m\u001b[37m\u001b[0m \u001b[1m7s\u001b[0m 52ms/step - loss: 0.0041\n",
      "Epoch 4/20\n",
      "\u001b[1m141/141\u001b[0m \u001b[32m━━━━━━━━━━━━━━━━━━━━\u001b[0m\u001b[37m\u001b[0m \u001b[1m7s\u001b[0m 51ms/step - loss: 0.0044\n",
      "Epoch 5/20\n",
      "\u001b[1m141/141\u001b[0m \u001b[32m━━━━━━━━━━━━━━━━━━━━\u001b[0m\u001b[37m\u001b[0m \u001b[1m8s\u001b[0m 53ms/step - loss: 0.0036\n",
      "Epoch 6/20\n",
      "\u001b[1m141/141\u001b[0m \u001b[32m━━━━━━━━━━━━━━━━━━━━\u001b[0m\u001b[37m\u001b[0m \u001b[1m8s\u001b[0m 54ms/step - loss: 0.0035\n",
      "Epoch 7/20\n",
      "\u001b[1m141/141\u001b[0m \u001b[32m━━━━━━━━━━━━━━━━━━━━\u001b[0m\u001b[37m\u001b[0m \u001b[1m7s\u001b[0m 50ms/step - loss: 0.0033\n",
      "Epoch 8/20\n",
      "\u001b[1m141/141\u001b[0m \u001b[32m━━━━━━━━━━━━━━━━━━━━\u001b[0m\u001b[37m\u001b[0m \u001b[1m7s\u001b[0m 53ms/step - loss: 0.0033\n",
      "Epoch 9/20\n",
      "\u001b[1m141/141\u001b[0m \u001b[32m━━━━━━━━━━━━━━━━━━━━\u001b[0m\u001b[37m\u001b[0m \u001b[1m7s\u001b[0m 49ms/step - loss: 0.0027\n",
      "Epoch 10/20\n",
      "\u001b[1m141/141\u001b[0m \u001b[32m━━━━━━━━━━━━━━━━━━━━\u001b[0m\u001b[37m\u001b[0m \u001b[1m7s\u001b[0m 49ms/step - loss: 0.0028\n",
      "Epoch 11/20\n",
      "\u001b[1m141/141\u001b[0m \u001b[32m━━━━━━━━━━━━━━━━━━━━\u001b[0m\u001b[37m\u001b[0m \u001b[1m7s\u001b[0m 51ms/step - loss: 0.0026\n",
      "Epoch 12/20\n",
      "\u001b[1m141/141\u001b[0m \u001b[32m━━━━━━━━━━━━━━━━━━━━\u001b[0m\u001b[37m\u001b[0m \u001b[1m7s\u001b[0m 50ms/step - loss: 0.0025\n",
      "Epoch 13/20\n",
      "\u001b[1m141/141\u001b[0m \u001b[32m━━━━━━━━━━━━━━━━━━━━\u001b[0m\u001b[37m\u001b[0m \u001b[1m7s\u001b[0m 47ms/step - loss: 0.0023\n",
      "Epoch 14/20\n",
      "\u001b[1m141/141\u001b[0m \u001b[32m━━━━━━━━━━━━━━━━━━━━\u001b[0m\u001b[37m\u001b[0m \u001b[1m8s\u001b[0m 54ms/step - loss: 0.0023\n",
      "Epoch 15/20\n",
      "\u001b[1m141/141\u001b[0m \u001b[32m━━━━━━━━━━━━━━━━━━━━\u001b[0m\u001b[37m\u001b[0m \u001b[1m8s\u001b[0m 58ms/step - loss: 0.0023\n",
      "Epoch 16/20\n",
      "\u001b[1m141/141\u001b[0m \u001b[32m━━━━━━━━━━━━━━━━━━━━\u001b[0m\u001b[37m\u001b[0m \u001b[1m8s\u001b[0m 55ms/step - loss: 0.0020\n",
      "Epoch 17/20\n",
      "\u001b[1m141/141\u001b[0m \u001b[32m━━━━━━━━━━━━━━━━━━━━\u001b[0m\u001b[37m\u001b[0m \u001b[1m8s\u001b[0m 56ms/step - loss: 0.0019\n",
      "Epoch 18/20\n",
      "\u001b[1m141/141\u001b[0m \u001b[32m━━━━━━━━━━━━━━━━━━━━\u001b[0m\u001b[37m\u001b[0m \u001b[1m8s\u001b[0m 55ms/step - loss: 0.0018\n",
      "Epoch 19/20\n",
      "\u001b[1m141/141\u001b[0m \u001b[32m━━━━━━━━━━━━━━━━━━━━\u001b[0m\u001b[37m\u001b[0m \u001b[1m8s\u001b[0m 54ms/step - loss: 0.0017\n",
      "Epoch 20/20\n",
      "\u001b[1m141/141\u001b[0m \u001b[32m━━━━━━━━━━━━━━━━━━━━\u001b[0m\u001b[37m\u001b[0m \u001b[1m7s\u001b[0m 51ms/step - loss: 0.0016\n"
     ]
    }
   ],
   "source": [
    "from time import time\n",
    "start = time()\n",
    "history = model.fit(features, labels, epochs = 20, batch_size = 32, verbose = 1)\n",
    "end = time()"
   ]
  },
  {
   "cell_type": "code",
   "execution_count": 44,
   "metadata": {
    "colab": {
     "base_uri": "https://localhost:8080/"
    },
    "id": "CMjYNddpWzrs",
    "outputId": "ab8dba08-14ab-4d5e-ab5c-8070bfa1d79a"
   },
   "outputs": [
    {
     "name": "stdout",
     "output_type": "stream",
     "text": [
      "Total training time 154.31477069854736 seconds\n"
     ]
    }
   ],
   "source": [
    "print('Total training time {} seconds'.format(end - start))"
   ]
  },
  {
   "cell_type": "code",
   "execution_count": 45,
   "metadata": {
    "colab": {
     "base_uri": "https://localhost:8080/"
    },
    "id": "0jX-nM6dfJSp",
    "outputId": "b66e9ddd-166a-43a0-e093-d6d432e46d65"
   },
   "outputs": [
    {
     "name": "stdout",
     "output_type": "stream",
     "text": [
      "(4512, 60, 1)\n"
     ]
    }
   ],
   "source": [
    "#  [samples, days, features]\n",
    "print(features.shape)"
   ]
  },
  {
   "cell_type": "code",
   "execution_count": 55,
   "metadata": {
    "colab": {
     "base_uri": "https://localhost:8080/"
    },
    "id": "yztm7-PfI_zx",
    "outputId": "cc7dcbb7-92df-4a4c-8148-cf5477dcea2a"
   },
   "outputs": [
    {
     "name": "stderr",
     "output_type": "stream",
     "text": [
      "[*********************100%%**********************]  1 of 1 completed\n"
     ]
    }
   ],
   "source": [
    "testing_start_date = '2024-06-04'\n",
    "testing_end_date = '2024-06-06'\n",
    "\n",
    "test_stock_data = yf.download(tickers, testing_start_date, testing_end_date)\n",
    "#data.get_data_yahoo(tickers, testing_start_date, testing_end_date)"
   ]
  },
  {
   "cell_type": "code",
   "execution_count": 56,
   "metadata": {
    "colab": {
     "base_uri": "https://localhost:8080/",
     "height": 238
    },
    "id": "VXVbTnlWd1iY",
    "outputId": "ac13d6cf-8671-45d3-a3b5-acbc7d4af318"
   },
   "outputs": [
    {
     "data": {
      "text/html": [
       "<div>\n",
       "<style scoped>\n",
       "    .dataframe tbody tr th:only-of-type {\n",
       "        vertical-align: middle;\n",
       "    }\n",
       "\n",
       "    .dataframe tbody tr th {\n",
       "        vertical-align: top;\n",
       "    }\n",
       "\n",
       "    .dataframe thead th {\n",
       "        text-align: right;\n",
       "    }\n",
       "</style>\n",
       "<table border=\"1\" class=\"dataframe\">\n",
       "  <thead>\n",
       "    <tr style=\"text-align: right;\">\n",
       "      <th></th>\n",
       "      <th>Open</th>\n",
       "      <th>High</th>\n",
       "      <th>Low</th>\n",
       "      <th>Close</th>\n",
       "      <th>Adj Close</th>\n",
       "      <th>Volume</th>\n",
       "    </tr>\n",
       "    <tr>\n",
       "      <th>Date</th>\n",
       "      <th></th>\n",
       "      <th></th>\n",
       "      <th></th>\n",
       "      <th></th>\n",
       "      <th></th>\n",
       "      <th></th>\n",
       "    </tr>\n",
       "  </thead>\n",
       "  <tbody>\n",
       "    <tr>\n",
       "      <th>2024-06-04</th>\n",
       "      <td>194.639999</td>\n",
       "      <td>195.320007</td>\n",
       "      <td>193.029999</td>\n",
       "      <td>194.350006</td>\n",
       "      <td>194.350006</td>\n",
       "      <td>47471400</td>\n",
       "    </tr>\n",
       "    <tr>\n",
       "      <th>2024-06-05</th>\n",
       "      <td>195.399994</td>\n",
       "      <td>196.899994</td>\n",
       "      <td>194.869995</td>\n",
       "      <td>195.869995</td>\n",
       "      <td>195.869995</td>\n",
       "      <td>54156800</td>\n",
       "    </tr>\n",
       "  </tbody>\n",
       "</table>\n",
       "</div>"
      ],
      "text/plain": [
       "                  Open        High         Low       Close   Adj Close  \\\n",
       "Date                                                                     \n",
       "2024-06-04  194.639999  195.320007  193.029999  194.350006  194.350006   \n",
       "2024-06-05  195.399994  196.899994  194.869995  195.869995  195.869995   \n",
       "\n",
       "              Volume  \n",
       "Date                  \n",
       "2024-06-04  47471400  \n",
       "2024-06-05  54156800  "
      ]
     },
     "execution_count": 56,
     "metadata": {},
     "output_type": "execute_result"
    }
   ],
   "source": [
    "test_stock_data.tail()"
   ]
  },
  {
   "cell_type": "code",
   "execution_count": 57,
   "metadata": {
    "id": "1iaY63cEJzTD"
   },
   "outputs": [],
   "source": [
    "test_stock_data_processed = test_stock_data.iloc[:, 1:2].values\n"
   ]
  },
  {
   "cell_type": "code",
   "execution_count": 58,
   "metadata": {
    "colab": {
     "base_uri": "https://localhost:8080/"
    },
    "id": "QdBH51wlaost",
    "outputId": "f3992315-f2e4-4f52-f1b2-7addfaadfc5b"
   },
   "outputs": [
    {
     "name": "stdout",
     "output_type": "stream",
     "text": [
      "(2, 1)\n"
     ]
    }
   ],
   "source": [
    "print(test_stock_data_processed.shape)"
   ]
  },
  {
   "cell_type": "code",
   "execution_count": 60,
   "metadata": {
    "id": "q66EIEAXb1Pw"
   },
   "outputs": [],
   "source": [
    "all_stock_data = pd.concat((stock_data['close'], test_stock_data['Close']), axis = 0)"
   ]
  },
  {
   "cell_type": "code",
   "execution_count": 61,
   "metadata": {
    "id": "ugpDI3hkc8Eo"
   },
   "outputs": [],
   "source": [
    "inputs = all_stock_data[len(all_stock_data) - len(test_stock_data) - 60:].values\n",
    "inputs = inputs.reshape(-1,1)\n",
    "inputs = sc.transform(inputs)"
   ]
  },
  {
   "cell_type": "code",
   "execution_count": 62,
   "metadata": {
    "id": "EMsXM9nEdDXS"
   },
   "outputs": [],
   "source": [
    "X_test = []\n",
    "for i in range(60, 129):\n",
    "    X_test.append(inputs[i-60:i, 0])"
   ]
  },
  {
   "cell_type": "code",
   "execution_count": 63,
   "metadata": {
    "colab": {
     "base_uri": "https://localhost:8080/"
    },
    "id": "JBo5fWfwek9K",
    "outputId": "fc590e1b-16f7-4ee5-cb78-f31dd0a6c1c9"
   },
   "outputs": [
    {
     "ename": "ValueError",
     "evalue": "setting an array element with a sequence. The requested array has an inhomogeneous shape after 1 dimensions. The detected shape was (69,) + inhomogeneous part.",
     "output_type": "error",
     "traceback": [
      "\u001b[1;31m---------------------------------------------------------------------------\u001b[0m",
      "\u001b[1;31mValueError\u001b[0m                                Traceback (most recent call last)",
      "Cell \u001b[1;32mIn[63], line 1\u001b[0m\n\u001b[1;32m----> 1\u001b[0m X_test \u001b[38;5;241m=\u001b[39m \u001b[43mnp\u001b[49m\u001b[38;5;241;43m.\u001b[39;49m\u001b[43marray\u001b[49m\u001b[43m(\u001b[49m\u001b[43mX_test\u001b[49m\u001b[43m)\u001b[49m\n\u001b[0;32m      2\u001b[0m X_test \u001b[38;5;241m=\u001b[39m np\u001b[38;5;241m.\u001b[39mreshape(X_test, (X_test\u001b[38;5;241m.\u001b[39mshape[\u001b[38;5;241m0\u001b[39m], X_test\u001b[38;5;241m.\u001b[39mshape[\u001b[38;5;241m1\u001b[39m], \u001b[38;5;241m1\u001b[39m))\n\u001b[0;32m      3\u001b[0m predicted_stock_price \u001b[38;5;241m=\u001b[39m model\u001b[38;5;241m.\u001b[39mpredict(X_test)\n",
      "\u001b[1;31mValueError\u001b[0m: setting an array element with a sequence. The requested array has an inhomogeneous shape after 1 dimensions. The detected shape was (69,) + inhomogeneous part."
     ]
    }
   ],
   "source": [
    "X_test = np.array(X_test)\n",
    "X_test = np.reshape(X_test, (X_test.shape[0], X_test.shape[1], 1))\n",
    "predicted_stock_price = model.predict(X_test)\n",
    "predicted_stock_price = sc.inverse_transform(predicted_stock_price)"
   ]
  },
  {
   "cell_type": "code",
   "execution_count": 64,
   "metadata": {
    "colab": {
     "base_uri": "https://localhost:8080/",
     "height": 564
    },
    "id": "EuEl7MRrdLUK",
    "outputId": "c752ee63-c367-4667-a5ae-51ed3f45a00e"
   },
   "outputs": [
    {
     "ename": "NameError",
     "evalue": "name 'predicted_stock_price' is not defined",
     "output_type": "error",
     "traceback": [
      "\u001b[1;31m---------------------------------------------------------------------------\u001b[0m",
      "\u001b[1;31mNameError\u001b[0m                                 Traceback (most recent call last)",
      "Cell \u001b[1;32mIn[64], line 3\u001b[0m\n\u001b[0;32m      1\u001b[0m plt\u001b[38;5;241m.\u001b[39mfigure(figsize\u001b[38;5;241m=\u001b[39m(\u001b[38;5;241m10\u001b[39m,\u001b[38;5;241m6\u001b[39m))\n\u001b[0;32m      2\u001b[0m plt\u001b[38;5;241m.\u001b[39mplot(test_stock_data_processed, color\u001b[38;5;241m=\u001b[39m\u001b[38;5;124m'\u001b[39m\u001b[38;5;124mblue\u001b[39m\u001b[38;5;124m'\u001b[39m, label\u001b[38;5;241m=\u001b[39m\u001b[38;5;124m'\u001b[39m\u001b[38;5;124mActual Apple Stock Price\u001b[39m\u001b[38;5;124m'\u001b[39m)\n\u001b[1;32m----> 3\u001b[0m plt\u001b[38;5;241m.\u001b[39mplot(\u001b[43mpredicted_stock_price\u001b[49m , color\u001b[38;5;241m=\u001b[39m\u001b[38;5;124m'\u001b[39m\u001b[38;5;124mred\u001b[39m\u001b[38;5;124m'\u001b[39m, label\u001b[38;5;241m=\u001b[39m\u001b[38;5;124m'\u001b[39m\u001b[38;5;124mPredicted Apple Stock Price\u001b[39m\u001b[38;5;124m'\u001b[39m)\n\u001b[0;32m      4\u001b[0m plt\u001b[38;5;241m.\u001b[39mtitle(\u001b[38;5;124m'\u001b[39m\u001b[38;5;124mApple Stock Price Prediction\u001b[39m\u001b[38;5;124m'\u001b[39m)\n\u001b[0;32m      5\u001b[0m plt\u001b[38;5;241m.\u001b[39mxlabel(\u001b[38;5;124m'\u001b[39m\u001b[38;5;124mDate\u001b[39m\u001b[38;5;124m'\u001b[39m)\n",
      "\u001b[1;31mNameError\u001b[0m: name 'predicted_stock_price' is not defined"
     ]
    },
    {
     "data": {
      "image/png": "[encoded data removed]",
      "text/plain": [
       "<Figure size 1000x600 with 1 Axes>"
      ]
     },
     "metadata": {},
     "output_type": "display_data"
    }
   ],
   "source": [
    "plt.figure(figsize=(10,6))\n",
    "plt.plot(test_stock_data_processed, color='blue', label='Actual Apple Stock Price')\n",
    "plt.plot(predicted_stock_price , color='red', label='Predicted Apple Stock Price')\n",
    "plt.title('Apple Stock Price Prediction')\n",
    "plt.xlabel('Date')\n",
    "plt.ylabel('Apple Stock Price')\n",
    "plt.legend()\n",
    "plt.show()"
   ]
  },
  {
   "cell_type": "code",
   "execution_count": 64,
   "metadata": {
    "colab": {
     "base_uri": "https://localhost:8080/"
    },
    "id": "IgIl5LKMKgU4",
    "outputId": "bee3bc06-1c0e-4844-b162-16f21f51d246"
   },
   "outputs": [
    {
     "name": "stdout",
     "output_type": "stream",
     "text": [
      "(68, 1)\n"
     ]
    }
   ],
   "source": [
    "#inputs = inputs.reshape(-1,1)\n",
    "#inputs = sc.transform(inputs)\n",
    "\n",
    "\n",
    "test_inputs = test_stock_data_processed.reshape(-1,1)\n",
    "test_inputs = sc.transform(test_inputs)\n",
    "\n",
    "\n",
    "print(test_inputs.shape)"
   ]
  },
  {
   "cell_type": "code",
   "execution_count": 66,
   "metadata": {
    "colab": {
     "base_uri": "https://localhost:8080/",
     "height": 176
    },
    "id": "1o-fpVjsdPiR",
    "outputId": "442af702-2dab-4986-c2e6-f020a7ea50c7"
   },
   "outputs": [
    {
     "name": "stdout",
     "output_type": "stream",
     "text": [
      "[array([0.68011503, 0.62382863, 0.63596043, 0.63716075, 0.64997846,\n",
      "       0.6615958 , 0.65919517, 0.6580377 , 0.64762068, 0.65670879,\n",
      "       0.66738307, 0.67501367, 0.67595678, 0.67102686, 0.66421078,\n",
      "       0.66138144, 0.67702849, 0.66931215, 0.67702849, 0.71140901,\n",
      "       0.72362657, 0.72354081, 0.73502961, 0.74969064, 0.75179122,\n",
      "       0.74480363, 0.73074276, 0.73310054, 0.73220027, 0.7385448 ,\n",
      "       0.73331483, 0.73520106, 0.7340865 , 0.74214581, 0.73807324,\n",
      "       0.74077398, 0.75307723, 0.75063376, 0.74934769, 0.74896189,\n",
      "       0.74999069, 0.76113653, 0.75363454, 0.75144827, 0.74694706,\n",
      "       0.74107409, 0.7670095 , 0.78222784, 0.78492858, 0.78835808,\n",
      "       0.8022046 , 0.80674865, 0.80932079, 0.81146421, 0.84078627,\n",
      "       0.8466164 , 0.82213844, 0.82599664, 0.81262162, 0.81176426]), array([0.62382863, 0.63596043, 0.63716075, 0.64997846, 0.6615958 ,\n",
      "       0.65919517, 0.6580377 , 0.64762068, 0.65670879, 0.66738307,\n",
      "       0.67501367, 0.67595678, 0.67102686, 0.66421078, 0.66138144,\n",
      "       0.67702849, 0.66931215, 0.67702849, 0.71140901, 0.72362657,\n",
      "       0.72354081, 0.73502961, 0.74969064, 0.75179122, 0.74480363,\n",
      "       0.73074276, 0.73310054, 0.73220027, 0.7385448 , 0.73331483,\n",
      "       0.73520106, 0.7340865 , 0.74214581, 0.73807324, 0.74077398,\n",
      "       0.75307723, 0.75063376, 0.74934769, 0.74896189, 0.74999069,\n",
      "       0.76113653, 0.75363454, 0.75144827, 0.74694706, 0.74107409,\n",
      "       0.7670095 , 0.78222784, 0.78492858, 0.78835808, 0.8022046 ,\n",
      "       0.80674865, 0.80932079, 0.81146421, 0.84078627, 0.8466164 ,\n",
      "       0.82213844, 0.82599664, 0.81262162, 0.81176426, 0.81399344]), array([0.63596043, 0.63716075, 0.64997846, 0.6615958 , 0.65919517,\n",
      "       0.6580377 , 0.64762068, 0.65670879, 0.66738307, 0.67501367,\n",
      "       0.67595678, 0.67102686, 0.66421078, 0.66138144, 0.67702849,\n",
      "       0.66931215, 0.67702849, 0.71140901, 0.72362657, 0.72354081,\n",
      "       0.73502961, 0.74969064, 0.75179122, 0.74480363, 0.73074276,\n",
      "       0.73310054, 0.73220027, 0.7385448 , 0.73331483, 0.73520106,\n",
      "       0.7340865 , 0.74214581, 0.73807324, 0.74077398, 0.75307723,\n",
      "       0.75063376, 0.74934769, 0.74896189, 0.74999069, 0.76113653,\n",
      "       0.75363454, 0.75144827, 0.74694706, 0.74107409, 0.7670095 ,\n",
      "       0.78222784, 0.78492858, 0.78835808, 0.8022046 , 0.80674865,\n",
      "       0.80932079, 0.81146421, 0.84078627, 0.8466164 , 0.82213844,\n",
      "       0.82599664, 0.81262162, 0.81176426, 0.81399344, 0.82085237]), array([0.63716075, 0.64997846, 0.6615958 , 0.65919517, 0.6580377 ,\n",
      "       0.64762068, 0.65670879, 0.66738307, 0.67501367, 0.67595678,\n",
      "       0.67102686, 0.66421078, 0.66138144, 0.67702849, 0.66931215,\n",
      "       0.67702849, 0.71140901, 0.72362657, 0.72354081, 0.73502961,\n",
      "       0.74969064, 0.75179122, 0.74480363, 0.73074276, 0.73310054,\n",
      "       0.73220027, 0.7385448 , 0.73331483, 0.73520106, 0.7340865 ,\n",
      "       0.74214581, 0.73807324, 0.74077398, 0.75307723, 0.75063376,\n",
      "       0.74934769, 0.74896189, 0.74999069, 0.76113653, 0.75363454,\n",
      "       0.75144827, 0.74694706, 0.74107409, 0.7670095 , 0.78222784,\n",
      "       0.78492858, 0.78835808, 0.8022046 , 0.80674865, 0.80932079,\n",
      "       0.81146421, 0.84078627, 0.8466164 , 0.82213844, 0.82599664,\n",
      "       0.81262162, 0.81176426, 0.81399344, 0.82085237, 0.83276988]), array([0.64997846, 0.6615958 , 0.65919517, 0.6580377 , 0.64762068,\n",
      "       0.65670879, 0.66738307, 0.67501367, 0.67595678, 0.67102686,\n",
      "       0.66421078, 0.66138144, 0.67702849, 0.66931215, 0.67702849,\n",
      "       0.71140901, 0.72362657, 0.72354081, 0.73502961, 0.74969064,\n",
      "       0.75179122, 0.74480363, 0.73074276, 0.73310054, 0.73220027,\n",
      "       0.7385448 , 0.73331483, 0.73520106, 0.7340865 , 0.74214581,\n",
      "       0.73807324, 0.74077398, 0.75307723, 0.75063376, 0.74934769,\n",
      "       0.74896189, 0.74999069, 0.76113653, 0.75363454, 0.75144827,\n",
      "       0.74694706, 0.74107409, 0.7670095 , 0.78222784, 0.78492858,\n",
      "       0.78835808, 0.8022046 , 0.80674865, 0.80932079, 0.81146421,\n",
      "       0.84078627, 0.8466164 , 0.82213844, 0.82599664, 0.81262162,\n",
      "       0.81176426, 0.81399344, 0.82085237, 0.83276988, 0.84151503]), array([0.6615958 , 0.65919517, 0.6580377 , 0.64762068, 0.65670879,\n",
      "       0.66738307, 0.67501367, 0.67595678, 0.67102686, 0.66421078,\n",
      "       0.66138144, 0.67702849, 0.66931215, 0.67702849, 0.71140901,\n",
      "       0.72362657, 0.72354081, 0.73502961, 0.74969064, 0.75179122,\n",
      "       0.74480363, 0.73074276, 0.73310054, 0.73220027, 0.7385448 ,\n",
      "       0.73331483, 0.73520106, 0.7340865 , 0.74214581, 0.73807324,\n",
      "       0.74077398, 0.75307723, 0.75063376, 0.74934769, 0.74896189,\n",
      "       0.74999069, 0.76113653, 0.75363454, 0.75144827, 0.74694706,\n",
      "       0.74107409, 0.7670095 , 0.78222784, 0.78492858, 0.78835808,\n",
      "       0.8022046 , 0.80674865, 0.80932079, 0.81146421, 0.84078627,\n",
      "       0.8466164 , 0.82213844, 0.82599664, 0.81262162, 0.81176426,\n",
      "       0.81399344, 0.82085237, 0.83276988, 0.84151503, 0.84095772]), array([0.65919517, 0.6580377 , 0.64762068, 0.65670879, 0.66738307,\n",
      "       0.67501367, 0.67595678, 0.67102686, 0.66421078, 0.66138144,\n",
      "       0.67702849, 0.66931215, 0.67702849, 0.71140901, 0.72362657,\n",
      "       0.72354081, 0.73502961, 0.74969064, 0.75179122, 0.74480363,\n",
      "       0.73074276, 0.73310054, 0.73220027, 0.7385448 , 0.73331483,\n",
      "       0.73520106, 0.7340865 , 0.74214581, 0.73807324, 0.74077398,\n",
      "       0.75307723, 0.75063376, 0.74934769, 0.74896189, 0.74999069,\n",
      "       0.76113653, 0.75363454, 0.75144827, 0.74694706, 0.74107409,\n",
      "       0.7670095 , 0.78222784, 0.78492858, 0.78835808, 0.8022046 ,\n",
      "       0.80674865, 0.80932079, 0.81146421, 0.84078627, 0.8466164 ,\n",
      "       0.82213844, 0.82599664, 0.81262162, 0.81176426, 0.81399344,\n",
      "       0.82085237, 0.83276988, 0.84151503, 0.84095772, 0.84408717]), array([0.6580377 , 0.64762068, 0.65670879, 0.66738307, 0.67501367,\n",
      "       0.67595678, 0.67102686, 0.66421078, 0.66138144, 0.67702849,\n",
      "       0.66931215, 0.67702849, 0.71140901, 0.72362657, 0.72354081,\n",
      "       0.73502961, 0.74969064, 0.75179122, 0.74480363, 0.73074276,\n",
      "       0.73310054, 0.73220027, 0.7385448 , 0.73331483, 0.73520106,\n",
      "       0.7340865 , 0.74214581, 0.73807324, 0.74077398, 0.75307723,\n",
      "       0.75063376, 0.74934769, 0.74896189, 0.74999069, 0.76113653,\n",
      "       0.75363454, 0.75144827, 0.74694706, 0.74107409, 0.7670095 ,\n",
      "       0.78222784, 0.78492858, 0.78835808, 0.8022046 , 0.80674865,\n",
      "       0.80932079, 0.81146421, 0.84078627, 0.8466164 , 0.82213844,\n",
      "       0.82599664, 0.81262162, 0.81176426, 0.81399344, 0.82085237,\n",
      "       0.83276988, 0.84151503, 0.84095772, 0.84408717, 0.85750498]), array([0.64762068, 0.65670879, 0.66738307, 0.67501367, 0.67595678,\n",
      "       0.67102686, 0.66421078, 0.66138144, 0.67702849, 0.66931215,\n",
      "       0.67702849, 0.71140901, 0.72362657, 0.72354081, 0.73502961,\n",
      "       0.74969064, 0.75179122, 0.74480363, 0.73074276, 0.73310054,\n",
      "       0.73220027, 0.7385448 , 0.73331483, 0.73520106, 0.7340865 ,\n",
      "       0.74214581, 0.73807324, 0.74077398, 0.75307723, 0.75063376,\n",
      "       0.74934769, 0.74896189, 0.74999069, 0.76113653, 0.75363454,\n",
      "       0.75144827, 0.74694706, 0.74107409, 0.7670095 , 0.78222784,\n",
      "       0.78492858, 0.78835808, 0.8022046 , 0.80674865, 0.80932079,\n",
      "       0.81146421, 0.84078627, 0.8466164 , 0.82213844, 0.82599664,\n",
      "       0.81262162, 0.81176426, 0.81399344, 0.82085237, 0.83276988,\n",
      "       0.84151503, 0.84095772, 0.84408717, 0.85750498, 0.86873658]), array([0.65670879, 0.66738307, 0.67501367, 0.67595678, 0.67102686,\n",
      "       0.66421078, 0.66138144, 0.67702849, 0.66931215, 0.67702849,\n",
      "       0.71140901, 0.72362657, 0.72354081, 0.73502961, 0.74969064,\n",
      "       0.75179122, 0.74480363, 0.73074276, 0.73310054, 0.73220027,\n",
      "       0.7385448 , 0.73331483, 0.73520106, 0.7340865 , 0.74214581,\n",
      "       0.73807324, 0.74077398, 0.75307723, 0.75063376, 0.74934769,\n",
      "       0.74896189, 0.74999069, 0.76113653, 0.75363454, 0.75144827,\n",
      "       0.74694706, 0.74107409, 0.7670095 , 0.78222784, 0.78492858,\n",
      "       0.78835808, 0.8022046 , 0.80674865, 0.80932079, 0.81146421,\n",
      "       0.84078627, 0.8466164 , 0.82213844, 0.82599664, 0.81262162,\n",
      "       0.81176426, 0.81399344, 0.82085237, 0.83276988, 0.84151503,\n",
      "       0.84095772, 0.84408717, 0.85750498, 0.86873658]), array([0.66738307, 0.67501367, 0.67595678, 0.67102686, 0.66421078,\n",
      "       0.66138144, 0.67702849, 0.66931215, 0.67702849, 0.71140901,\n",
      "       0.72362657, 0.72354081, 0.73502961, 0.74969064, 0.75179122,\n",
      "       0.74480363, 0.73074276, 0.73310054, 0.73220027, 0.7385448 ,\n",
      "       0.73331483, 0.73520106, 0.7340865 , 0.74214581, 0.73807324,\n",
      "       0.74077398, 0.75307723, 0.75063376, 0.74934769, 0.74896189,\n",
      "       0.74999069, 0.76113653, 0.75363454, 0.75144827, 0.74694706,\n",
      "       0.74107409, 0.7670095 , 0.78222784, 0.78492858, 0.78835808,\n",
      "       0.8022046 , 0.80674865, 0.80932079, 0.81146421, 0.84078627,\n",
      "       0.8466164 , 0.82213844, 0.82599664, 0.81262162, 0.81176426,\n",
      "       0.81399344, 0.82085237, 0.83276988, 0.84151503, 0.84095772,\n",
      "       0.84408717, 0.85750498, 0.86873658]), array([0.67501367, 0.67595678, 0.67102686, 0.66421078, 0.66138144,\n",
      "       0.67702849, 0.66931215, 0.67702849, 0.71140901, 0.72362657,\n",
      "       0.72354081, 0.73502961, 0.74969064, 0.75179122, 0.74480363,\n",
      "       0.73074276, 0.73310054, 0.73220027, 0.7385448 , 0.73331483,\n",
      "       0.73520106, 0.7340865 , 0.74214581, 0.73807324, 0.74077398,\n",
      "       0.75307723, 0.75063376, 0.74934769, 0.74896189, 0.74999069,\n",
      "       0.76113653, 0.75363454, 0.75144827, 0.74694706, 0.74107409,\n",
      "       0.7670095 , 0.78222784, 0.78492858, 0.78835808, 0.8022046 ,\n",
      "       0.80674865, 0.80932079, 0.81146421, 0.84078627, 0.8466164 ,\n",
      "       0.82213844, 0.82599664, 0.81262162, 0.81176426, 0.81399344,\n",
      "       0.82085237, 0.83276988, 0.84151503, 0.84095772, 0.84408717,\n",
      "       0.85750498, 0.86873658]), array([0.67595678, 0.67102686, 0.66421078, 0.66138144, 0.67702849,\n",
      "       0.66931215, 0.67702849, 0.71140901, 0.72362657, 0.72354081,\n",
      "       0.73502961, 0.74969064, 0.75179122, 0.74480363, 0.73074276,\n",
      "       0.73310054, 0.73220027, 0.7385448 , 0.73331483, 0.73520106,\n",
      "       0.7340865 , 0.74214581, 0.73807324, 0.74077398, 0.75307723,\n",
      "       0.75063376, 0.74934769, 0.74896189, 0.74999069, 0.76113653,\n",
      "       0.75363454, 0.75144827, 0.74694706, 0.74107409, 0.7670095 ,\n",
      "       0.78222784, 0.78492858, 0.78835808, 0.8022046 , 0.80674865,\n",
      "       0.80932079, 0.81146421, 0.84078627, 0.8466164 , 0.82213844,\n",
      "       0.82599664, 0.81262162, 0.81176426, 0.81399344, 0.82085237,\n",
      "       0.83276988, 0.84151503, 0.84095772, 0.84408717, 0.85750498,\n",
      "       0.86873658]), array([0.67102686, 0.66421078, 0.66138144, 0.67702849, 0.66931215,\n",
      "       0.67702849, 0.71140901, 0.72362657, 0.72354081, 0.73502961,\n",
      "       0.74969064, 0.75179122, 0.74480363, 0.73074276, 0.73310054,\n",
      "       0.73220027, 0.7385448 , 0.73331483, 0.73520106, 0.7340865 ,\n",
      "       0.74214581, 0.73807324, 0.74077398, 0.75307723, 0.75063376,\n",
      "       0.74934769, 0.74896189, 0.74999069, 0.76113653, 0.75363454,\n",
      "       0.75144827, 0.74694706, 0.74107409, 0.7670095 , 0.78222784,\n",
      "       0.78492858, 0.78835808, 0.8022046 , 0.80674865, 0.80932079,\n",
      "       0.81146421, 0.84078627, 0.8466164 , 0.82213844, 0.82599664,\n",
      "       0.81262162, 0.81176426, 0.81399344, 0.82085237, 0.83276988,\n",
      "       0.84151503, 0.84095772, 0.84408717, 0.85750498, 0.86873658]), array([0.66421078, 0.66138144, 0.67702849, 0.66931215, 0.67702849,\n",
      "       0.71140901, 0.72362657, 0.72354081, 0.73502961, 0.74969064,\n",
      "       0.75179122, 0.74480363, 0.73074276, 0.73310054, 0.73220027,\n",
      "       0.7385448 , 0.73331483, 0.73520106, 0.7340865 , 0.74214581,\n",
      "       0.73807324, 0.74077398, 0.75307723, 0.75063376, 0.74934769,\n",
      "       0.74896189, 0.74999069, 0.76113653, 0.75363454, 0.75144827,\n",
      "       0.74694706, 0.74107409, 0.7670095 , 0.78222784, 0.78492858,\n",
      "       0.78835808, 0.8022046 , 0.80674865, 0.80932079, 0.81146421,\n",
      "       0.84078627, 0.8466164 , 0.82213844, 0.82599664, 0.81262162,\n",
      "       0.81176426, 0.81399344, 0.82085237, 0.83276988, 0.84151503,\n",
      "       0.84095772, 0.84408717, 0.85750498, 0.86873658]), array([0.66138144, 0.67702849, 0.66931215, 0.67702849, 0.71140901,\n",
      "       0.72362657, 0.72354081, 0.73502961, 0.74969064, 0.75179122,\n",
      "       0.74480363, 0.73074276, 0.73310054, 0.73220027, 0.7385448 ,\n",
      "       0.73331483, 0.73520106, 0.7340865 , 0.74214581, 0.73807324,\n",
      "       0.74077398, 0.75307723, 0.75063376, 0.74934769, 0.74896189,\n",
      "       0.74999069, 0.76113653, 0.75363454, 0.75144827, 0.74694706,\n",
      "       0.74107409, 0.7670095 , 0.78222784, 0.78492858, 0.78835808,\n",
      "       0.8022046 , 0.80674865, 0.80932079, 0.81146421, 0.84078627,\n",
      "       0.8466164 , 0.82213844, 0.82599664, 0.81262162, 0.81176426,\n",
      "       0.81399344, 0.82085237, 0.83276988, 0.84151503, 0.84095772,\n",
      "       0.84408717, 0.85750498, 0.86873658]), array([0.67702849, 0.66931215, 0.67702849, 0.71140901, 0.72362657,\n",
      "       0.72354081, 0.73502961, 0.74969064, 0.75179122, 0.74480363,\n",
      "       0.73074276, 0.73310054, 0.73220027, 0.7385448 , 0.73331483,\n",
      "       0.73520106, 0.7340865 , 0.74214581, 0.73807324, 0.74077398,\n",
      "       0.75307723, 0.75063376, 0.74934769, 0.74896189, 0.74999069,\n",
      "       0.76113653, 0.75363454, 0.75144827, 0.74694706, 0.74107409,\n",
      "       0.7670095 , 0.78222784, 0.78492858, 0.78835808, 0.8022046 ,\n",
      "       0.80674865, 0.80932079, 0.81146421, 0.84078627, 0.8466164 ,\n",
      "       0.82213844, 0.82599664, 0.81262162, 0.81176426, 0.81399344,\n",
      "       0.82085237, 0.83276988, 0.84151503, 0.84095772, 0.84408717,\n",
      "       0.85750498, 0.86873658]), array([0.66931215, 0.67702849, 0.71140901, 0.72362657, 0.72354081,\n",
      "       0.73502961, 0.74969064, 0.75179122, 0.74480363, 0.73074276,\n",
      "       0.73310054, 0.73220027, 0.7385448 , 0.73331483, 0.73520106,\n",
      "       0.7340865 , 0.74214581, 0.73807324, 0.74077398, 0.75307723,\n",
      "       0.75063376, 0.74934769, 0.74896189, 0.74999069, 0.76113653,\n",
      "       0.75363454, 0.75144827, 0.74694706, 0.74107409, 0.7670095 ,\n",
      "       0.78222784, 0.78492858, 0.78835808, 0.8022046 , 0.80674865,\n",
      "       0.80932079, 0.81146421, 0.84078627, 0.8466164 , 0.82213844,\n",
      "       0.82599664, 0.81262162, 0.81176426, 0.81399344, 0.82085237,\n",
      "       0.83276988, 0.84151503, 0.84095772, 0.84408717, 0.85750498,\n",
      "       0.86873658]), array([0.67702849, 0.71140901, 0.72362657, 0.72354081, 0.73502961,\n",
      "       0.74969064, 0.75179122, 0.74480363, 0.73074276, 0.73310054,\n",
      "       0.73220027, 0.7385448 , 0.73331483, 0.73520106, 0.7340865 ,\n",
      "       0.74214581, 0.73807324, 0.74077398, 0.75307723, 0.75063376,\n",
      "       0.74934769, 0.74896189, 0.74999069, 0.76113653, 0.75363454,\n",
      "       0.75144827, 0.74694706, 0.74107409, 0.7670095 , 0.78222784,\n",
      "       0.78492858, 0.78835808, 0.8022046 , 0.80674865, 0.80932079,\n",
      "       0.81146421, 0.84078627, 0.8466164 , 0.82213844, 0.82599664,\n",
      "       0.81262162, 0.81176426, 0.81399344, 0.82085237, 0.83276988,\n",
      "       0.84151503, 0.84095772, 0.84408717, 0.85750498, 0.86873658]), array([0.71140901, 0.72362657, 0.72354081, 0.73502961, 0.74969064,\n",
      "       0.75179122, 0.74480363, 0.73074276, 0.73310054, 0.73220027,\n",
      "       0.7385448 , 0.73331483, 0.73520106, 0.7340865 , 0.74214581,\n",
      "       0.73807324, 0.74077398, 0.75307723, 0.75063376, 0.74934769,\n",
      "       0.74896189, 0.74999069, 0.76113653, 0.75363454, 0.75144827,\n",
      "       0.74694706, 0.74107409, 0.7670095 , 0.78222784, 0.78492858,\n",
      "       0.78835808, 0.8022046 , 0.80674865, 0.80932079, 0.81146421,\n",
      "       0.84078627, 0.8466164 , 0.82213844, 0.82599664, 0.81262162,\n",
      "       0.81176426, 0.81399344, 0.82085237, 0.83276988, 0.84151503,\n",
      "       0.84095772, 0.84408717, 0.85750498, 0.86873658]), array([0.72362657, 0.72354081, 0.73502961, 0.74969064, 0.75179122,\n",
      "       0.74480363, 0.73074276, 0.73310054, 0.73220027, 0.7385448 ,\n",
      "       0.73331483, 0.73520106, 0.7340865 , 0.74214581, 0.73807324,\n",
      "       0.74077398, 0.75307723, 0.75063376, 0.74934769, 0.74896189,\n",
      "       0.74999069, 0.76113653, 0.75363454, 0.75144827, 0.74694706,\n",
      "       0.74107409, 0.7670095 , 0.78222784, 0.78492858, 0.78835808,\n",
      "       0.8022046 , 0.80674865, 0.80932079, 0.81146421, 0.84078627,\n",
      "       0.8466164 , 0.82213844, 0.82599664, 0.81262162, 0.81176426,\n",
      "       0.81399344, 0.82085237, 0.83276988, 0.84151503, 0.84095772,\n",
      "       0.84408717, 0.85750498, 0.86873658]), array([0.72354081, 0.73502961, 0.74969064, 0.75179122, 0.74480363,\n",
      "       0.73074276, 0.73310054, 0.73220027, 0.7385448 , 0.73331483,\n",
      "       0.73520106, 0.7340865 , 0.74214581, 0.73807324, 0.74077398,\n",
      "       0.75307723, 0.75063376, 0.74934769, 0.74896189, 0.74999069,\n",
      "       0.76113653, 0.75363454, 0.75144827, 0.74694706, 0.74107409,\n",
      "       0.7670095 , 0.78222784, 0.78492858, 0.78835808, 0.8022046 ,\n",
      "       0.80674865, 0.80932079, 0.81146421, 0.84078627, 0.8466164 ,\n",
      "       0.82213844, 0.82599664, 0.81262162, 0.81176426, 0.81399344,\n",
      "       0.82085237, 0.83276988, 0.84151503, 0.84095772, 0.84408717,\n",
      "       0.85750498, 0.86873658]), array([0.73502961, 0.74969064, 0.75179122, 0.74480363, 0.73074276,\n",
      "       0.73310054, 0.73220027, 0.7385448 , 0.73331483, 0.73520106,\n",
      "       0.7340865 , 0.74214581, 0.73807324, 0.74077398, 0.75307723,\n",
      "       0.75063376, 0.74934769, 0.74896189, 0.74999069, 0.76113653,\n",
      "       0.75363454, 0.75144827, 0.74694706, 0.74107409, 0.7670095 ,\n",
      "       0.78222784, 0.78492858, 0.78835808, 0.8022046 , 0.80674865,\n",
      "       0.80932079, 0.81146421, 0.84078627, 0.8466164 , 0.82213844,\n",
      "       0.82599664, 0.81262162, 0.81176426, 0.81399344, 0.82085237,\n",
      "       0.83276988, 0.84151503, 0.84095772, 0.84408717, 0.85750498,\n",
      "       0.86873658]), array([0.74969064, 0.75179122, 0.74480363, 0.73074276, 0.73310054,\n",
      "       0.73220027, 0.7385448 , 0.73331483, 0.73520106, 0.7340865 ,\n",
      "       0.74214581, 0.73807324, 0.74077398, 0.75307723, 0.75063376,\n",
      "       0.74934769, 0.74896189, 0.74999069, 0.76113653, 0.75363454,\n",
      "       0.75144827, 0.74694706, 0.74107409, 0.7670095 , 0.78222784,\n",
      "       0.78492858, 0.78835808, 0.8022046 , 0.80674865, 0.80932079,\n",
      "       0.81146421, 0.84078627, 0.8466164 , 0.82213844, 0.82599664,\n",
      "       0.81262162, 0.81176426, 0.81399344, 0.82085237, 0.83276988,\n",
      "       0.84151503, 0.84095772, 0.84408717, 0.85750498, 0.86873658]), array([0.75179122, 0.74480363, 0.73074276, 0.73310054, 0.73220027,\n",
      "       0.7385448 , 0.73331483, 0.73520106, 0.7340865 , 0.74214581,\n",
      "       0.73807324, 0.74077398, 0.75307723, 0.75063376, 0.74934769,\n",
      "       0.74896189, 0.74999069, 0.76113653, 0.75363454, 0.75144827,\n",
      "       0.74694706, 0.74107409, 0.7670095 , 0.78222784, 0.78492858,\n",
      "       0.78835808, 0.8022046 , 0.80674865, 0.80932079, 0.81146421,\n",
      "       0.84078627, 0.8466164 , 0.82213844, 0.82599664, 0.81262162,\n",
      "       0.81176426, 0.81399344, 0.82085237, 0.83276988, 0.84151503,\n",
      "       0.84095772, 0.84408717, 0.85750498, 0.86873658]), array([0.74480363, 0.73074276, 0.73310054, 0.73220027, 0.7385448 ,\n",
      "       0.73331483, 0.73520106, 0.7340865 , 0.74214581, 0.73807324,\n",
      "       0.74077398, 0.75307723, 0.75063376, 0.74934769, 0.74896189,\n",
      "       0.74999069, 0.76113653, 0.75363454, 0.75144827, 0.74694706,\n",
      "       0.74107409, 0.7670095 , 0.78222784, 0.78492858, 0.78835808,\n",
      "       0.8022046 , 0.80674865, 0.80932079, 0.81146421, 0.84078627,\n",
      "       0.8466164 , 0.82213844, 0.82599664, 0.81262162, 0.81176426,\n",
      "       0.81399344, 0.82085237, 0.83276988, 0.84151503, 0.84095772,\n",
      "       0.84408717, 0.85750498, 0.86873658]), array([0.73074276, 0.73310054, 0.73220027, 0.7385448 , 0.73331483,\n",
      "       0.73520106, 0.7340865 , 0.74214581, 0.73807324, 0.74077398,\n",
      "       0.75307723, 0.75063376, 0.74934769, 0.74896189, 0.74999069,\n",
      "       0.76113653, 0.75363454, 0.75144827, 0.74694706, 0.74107409,\n",
      "       0.7670095 , 0.78222784, 0.78492858, 0.78835808, 0.8022046 ,\n",
      "       0.80674865, 0.80932079, 0.81146421, 0.84078627, 0.8466164 ,\n",
      "       0.82213844, 0.82599664, 0.81262162, 0.81176426, 0.81399344,\n",
      "       0.82085237, 0.83276988, 0.84151503, 0.84095772, 0.84408717,\n",
      "       0.85750498, 0.86873658]), array([0.73310054, 0.73220027, 0.7385448 , 0.73331483, 0.73520106,\n",
      "       0.7340865 , 0.74214581, 0.73807324, 0.74077398, 0.75307723,\n",
      "       0.75063376, 0.74934769, 0.74896189, 0.74999069, 0.76113653,\n",
      "       0.75363454, 0.75144827, 0.74694706, 0.74107409, 0.7670095 ,\n",
      "       0.78222784, 0.78492858, 0.78835808, 0.8022046 , 0.80674865,\n",
      "       0.80932079, 0.81146421, 0.84078627, 0.8466164 , 0.82213844,\n",
      "       0.82599664, 0.81262162, 0.81176426, 0.81399344, 0.82085237,\n",
      "       0.83276988, 0.84151503, 0.84095772, 0.84408717, 0.85750498,\n",
      "       0.86873658]), array([0.73220027, 0.7385448 , 0.73331483, 0.73520106, 0.7340865 ,\n",
      "       0.74214581, 0.73807324, 0.74077398, 0.75307723, 0.75063376,\n",
      "       0.74934769, 0.74896189, 0.74999069, 0.76113653, 0.75363454,\n",
      "       0.75144827, 0.74694706, 0.74107409, 0.7670095 , 0.78222784,\n",
      "       0.78492858, 0.78835808, 0.8022046 , 0.80674865, 0.80932079,\n",
      "       0.81146421, 0.84078627, 0.8466164 , 0.82213844, 0.82599664,\n",
      "       0.81262162, 0.81176426, 0.81399344, 0.82085237, 0.83276988,\n",
      "       0.84151503, 0.84095772, 0.84408717, 0.85750498, 0.86873658]), array([0.7385448 , 0.73331483, 0.73520106, 0.7340865 , 0.74214581,\n",
      "       0.73807324, 0.74077398, 0.75307723, 0.75063376, 0.74934769,\n",
      "       0.74896189, 0.74999069, 0.76113653, 0.75363454, 0.75144827,\n",
      "       0.74694706, 0.74107409, 0.7670095 , 0.78222784, 0.78492858,\n",
      "       0.78835808, 0.8022046 , 0.80674865, 0.80932079, 0.81146421,\n",
      "       0.84078627, 0.8466164 , 0.82213844, 0.82599664, 0.81262162,\n",
      "       0.81176426, 0.81399344, 0.82085237, 0.83276988, 0.84151503,\n",
      "       0.84095772, 0.84408717, 0.85750498, 0.86873658]), array([0.73331483, 0.73520106, 0.7340865 , 0.74214581, 0.73807324,\n",
      "       0.74077398, 0.75307723, 0.75063376, 0.74934769, 0.74896189,\n",
      "       0.74999069, 0.76113653, 0.75363454, 0.75144827, 0.74694706,\n",
      "       0.74107409, 0.7670095 , 0.78222784, 0.78492858, 0.78835808,\n",
      "       0.8022046 , 0.80674865, 0.80932079, 0.81146421, 0.84078627,\n",
      "       0.8466164 , 0.82213844, 0.82599664, 0.81262162, 0.81176426,\n",
      "       0.81399344, 0.82085237, 0.83276988, 0.84151503, 0.84095772,\n",
      "       0.84408717, 0.85750498, 0.86873658]), array([0.73520106, 0.7340865 , 0.74214581, 0.73807324, 0.74077398,\n",
      "       0.75307723, 0.75063376, 0.74934769, 0.74896189, 0.74999069,\n",
      "       0.76113653, 0.75363454, 0.75144827, 0.74694706, 0.74107409,\n",
      "       0.7670095 , 0.78222784, 0.78492858, 0.78835808, 0.8022046 ,\n",
      "       0.80674865, 0.80932079, 0.81146421, 0.84078627, 0.8466164 ,\n",
      "       0.82213844, 0.82599664, 0.81262162, 0.81176426, 0.81399344,\n",
      "       0.82085237, 0.83276988, 0.84151503, 0.84095772, 0.84408717,\n",
      "       0.85750498, 0.86873658]), array([0.7340865 , 0.74214581, 0.73807324, 0.74077398, 0.75307723,\n",
      "       0.75063376, 0.74934769, 0.74896189, 0.74999069, 0.76113653,\n",
      "       0.75363454, 0.75144827, 0.74694706, 0.74107409, 0.7670095 ,\n",
      "       0.78222784, 0.78492858, 0.78835808, 0.8022046 , 0.80674865,\n",
      "       0.80932079, 0.81146421, 0.84078627, 0.8466164 , 0.82213844,\n",
      "       0.82599664, 0.81262162, 0.81176426, 0.81399344, 0.82085237,\n",
      "       0.83276988, 0.84151503, 0.84095772, 0.84408717, 0.85750498,\n",
      "       0.86873658]), array([0.74214581, 0.73807324, 0.74077398, 0.75307723, 0.75063376,\n",
      "       0.74934769, 0.74896189, 0.74999069, 0.76113653, 0.75363454,\n",
      "       0.75144827, 0.74694706, 0.74107409, 0.7670095 , 0.78222784,\n",
      "       0.78492858, 0.78835808, 0.8022046 , 0.80674865, 0.80932079,\n",
      "       0.81146421, 0.84078627, 0.8466164 , 0.82213844, 0.82599664,\n",
      "       0.81262162, 0.81176426, 0.81399344, 0.82085237, 0.83276988,\n",
      "       0.84151503, 0.84095772, 0.84408717, 0.85750498, 0.86873658]), array([0.73807324, 0.74077398, 0.75307723, 0.75063376, 0.74934769,\n",
      "       0.74896189, 0.74999069, 0.76113653, 0.75363454, 0.75144827,\n",
      "       0.74694706, 0.74107409, 0.7670095 , 0.78222784, 0.78492858,\n",
      "       0.78835808, 0.8022046 , 0.80674865, 0.80932079, 0.81146421,\n",
      "       0.84078627, 0.8466164 , 0.82213844, 0.82599664, 0.81262162,\n",
      "       0.81176426, 0.81399344, 0.82085237, 0.83276988, 0.84151503,\n",
      "       0.84095772, 0.84408717, 0.85750498, 0.86873658]), array([0.74077398, 0.75307723, 0.75063376, 0.74934769, 0.74896189,\n",
      "       0.74999069, 0.76113653, 0.75363454, 0.75144827, 0.74694706,\n",
      "       0.74107409, 0.7670095 , 0.78222784, 0.78492858, 0.78835808,\n",
      "       0.8022046 , 0.80674865, 0.80932079, 0.81146421, 0.84078627,\n",
      "       0.8466164 , 0.82213844, 0.82599664, 0.81262162, 0.81176426,\n",
      "       0.81399344, 0.82085237, 0.83276988, 0.84151503, 0.84095772,\n",
      "       0.84408717, 0.85750498, 0.86873658]), array([0.75307723, 0.75063376, 0.74934769, 0.74896189, 0.74999069,\n",
      "       0.76113653, 0.75363454, 0.75144827, 0.74694706, 0.74107409,\n",
      "       0.7670095 , 0.78222784, 0.78492858, 0.78835808, 0.8022046 ,\n",
      "       0.80674865, 0.80932079, 0.81146421, 0.84078627, 0.8466164 ,\n",
      "       0.82213844, 0.82599664, 0.81262162, 0.81176426, 0.81399344,\n",
      "       0.82085237, 0.83276988, 0.84151503, 0.84095772, 0.84408717,\n",
      "       0.85750498, 0.86873658]), array([0.75063376, 0.74934769, 0.74896189, 0.74999069, 0.76113653,\n",
      "       0.75363454, 0.75144827, 0.74694706, 0.74107409, 0.7670095 ,\n",
      "       0.78222784, 0.78492858, 0.78835808, 0.8022046 , 0.80674865,\n",
      "       0.80932079, 0.81146421, 0.84078627, 0.8466164 , 0.82213844,\n",
      "       0.82599664, 0.81262162, 0.81176426, 0.81399344, 0.82085237,\n",
      "       0.83276988, 0.84151503, 0.84095772, 0.84408717, 0.85750498,\n",
      "       0.86873658]), array([0.74934769, 0.74896189, 0.74999069, 0.76113653, 0.75363454,\n",
      "       0.75144827, 0.74694706, 0.74107409, 0.7670095 , 0.78222784,\n",
      "       0.78492858, 0.78835808, 0.8022046 , 0.80674865, 0.80932079,\n",
      "       0.81146421, 0.84078627, 0.8466164 , 0.82213844, 0.82599664,\n",
      "       0.81262162, 0.81176426, 0.81399344, 0.82085237, 0.83276988,\n",
      "       0.84151503, 0.84095772, 0.84408717, 0.85750498, 0.86873658]), array([0.74896189, 0.74999069, 0.76113653, 0.75363454, 0.75144827,\n",
      "       0.74694706, 0.74107409, 0.7670095 , 0.78222784, 0.78492858,\n",
      "       0.78835808, 0.8022046 , 0.80674865, 0.80932079, 0.81146421,\n",
      "       0.84078627, 0.8466164 , 0.82213844, 0.82599664, 0.81262162,\n",
      "       0.81176426, 0.81399344, 0.82085237, 0.83276988, 0.84151503,\n",
      "       0.84095772, 0.84408717, 0.85750498, 0.86873658]), array([0.74999069, 0.76113653, 0.75363454, 0.75144827, 0.74694706,\n",
      "       0.74107409, 0.7670095 , 0.78222784, 0.78492858, 0.78835808,\n",
      "       0.8022046 , 0.80674865, 0.80932079, 0.81146421, 0.84078627,\n",
      "       0.8466164 , 0.82213844, 0.82599664, 0.81262162, 0.81176426,\n",
      "       0.81399344, 0.82085237, 0.83276988, 0.84151503, 0.84095772,\n",
      "       0.84408717, 0.85750498, 0.86873658]), array([0.76113653, 0.75363454, 0.75144827, 0.74694706, 0.74107409,\n",
      "       0.7670095 , 0.78222784, 0.78492858, 0.78835808, 0.8022046 ,\n",
      "       0.80674865, 0.80932079, 0.81146421, 0.84078627, 0.8466164 ,\n",
      "       0.82213844, 0.82599664, 0.81262162, 0.81176426, 0.81399344,\n",
      "       0.82085237, 0.83276988, 0.84151503, 0.84095772, 0.84408717,\n",
      "       0.85750498, 0.86873658]), array([0.75363454, 0.75144827, 0.74694706, 0.74107409, 0.7670095 ,\n",
      "       0.78222784, 0.78492858, 0.78835808, 0.8022046 , 0.80674865,\n",
      "       0.80932079, 0.81146421, 0.84078627, 0.8466164 , 0.82213844,\n",
      "       0.82599664, 0.81262162, 0.81176426, 0.81399344, 0.82085237,\n",
      "       0.83276988, 0.84151503, 0.84095772, 0.84408717, 0.85750498,\n",
      "       0.86873658]), array([0.75144827, 0.74694706, 0.74107409, 0.7670095 , 0.78222784,\n",
      "       0.78492858, 0.78835808, 0.8022046 , 0.80674865, 0.80932079,\n",
      "       0.81146421, 0.84078627, 0.8466164 , 0.82213844, 0.82599664,\n",
      "       0.81262162, 0.81176426, 0.81399344, 0.82085237, 0.83276988,\n",
      "       0.84151503, 0.84095772, 0.84408717, 0.85750498, 0.86873658]), array([0.74694706, 0.74107409, 0.7670095 , 0.78222784, 0.78492858,\n",
      "       0.78835808, 0.8022046 , 0.80674865, 0.80932079, 0.81146421,\n",
      "       0.84078627, 0.8466164 , 0.82213844, 0.82599664, 0.81262162,\n",
      "       0.81176426, 0.81399344, 0.82085237, 0.83276988, 0.84151503,\n",
      "       0.84095772, 0.84408717, 0.85750498, 0.86873658]), array([0.74107409, 0.7670095 , 0.78222784, 0.78492858, 0.78835808,\n",
      "       0.8022046 , 0.80674865, 0.80932079, 0.81146421, 0.84078627,\n",
      "       0.8466164 , 0.82213844, 0.82599664, 0.81262162, 0.81176426,\n",
      "       0.81399344, 0.82085237, 0.83276988, 0.84151503, 0.84095772,\n",
      "       0.84408717, 0.85750498, 0.86873658]), array([0.7670095 , 0.78222784, 0.78492858, 0.78835808, 0.8022046 ,\n",
      "       0.80674865, 0.80932079, 0.81146421, 0.84078627, 0.8466164 ,\n",
      "       0.82213844, 0.82599664, 0.81262162, 0.81176426, 0.81399344,\n",
      "       0.82085237, 0.83276988, 0.84151503, 0.84095772, 0.84408717,\n",
      "       0.85750498, 0.86873658]), array([0.78222784, 0.78492858, 0.78835808, 0.8022046 , 0.80674865,\n",
      "       0.80932079, 0.81146421, 0.84078627, 0.8466164 , 0.82213844,\n",
      "       0.82599664, 0.81262162, 0.81176426, 0.81399344, 0.82085237,\n",
      "       0.83276988, 0.84151503, 0.84095772, 0.84408717, 0.85750498,\n",
      "       0.86873658]), array([0.78492858, 0.78835808, 0.8022046 , 0.80674865, 0.80932079,\n",
      "       0.81146421, 0.84078627, 0.8466164 , 0.82213844, 0.82599664,\n",
      "       0.81262162, 0.81176426, 0.81399344, 0.82085237, 0.83276988,\n",
      "       0.84151503, 0.84095772, 0.84408717, 0.85750498, 0.86873658]), array([0.78835808, 0.8022046 , 0.80674865, 0.80932079, 0.81146421,\n",
      "       0.84078627, 0.8466164 , 0.82213844, 0.82599664, 0.81262162,\n",
      "       0.81176426, 0.81399344, 0.82085237, 0.83276988, 0.84151503,\n",
      "       0.84095772, 0.84408717, 0.85750498, 0.86873658]), array([0.8022046 , 0.80674865, 0.80932079, 0.81146421, 0.84078627,\n",
      "       0.8466164 , 0.82213844, 0.82599664, 0.81262162, 0.81176426,\n",
      "       0.81399344, 0.82085237, 0.83276988, 0.84151503, 0.84095772,\n",
      "       0.84408717, 0.85750498, 0.86873658]), array([0.80674865, 0.80932079, 0.81146421, 0.84078627, 0.8466164 ,\n",
      "       0.82213844, 0.82599664, 0.81262162, 0.81176426, 0.81399344,\n",
      "       0.82085237, 0.83276988, 0.84151503, 0.84095772, 0.84408717,\n",
      "       0.85750498, 0.86873658]), array([0.80932079, 0.81146421, 0.84078627, 0.8466164 , 0.82213844,\n",
      "       0.82599664, 0.81262162, 0.81176426, 0.81399344, 0.82085237,\n",
      "       0.83276988, 0.84151503, 0.84095772, 0.84408717, 0.85750498,\n",
      "       0.86873658]), array([0.81146421, 0.84078627, 0.8466164 , 0.82213844, 0.82599664,\n",
      "       0.81262162, 0.81176426, 0.81399344, 0.82085237, 0.83276988,\n",
      "       0.84151503, 0.84095772, 0.84408717, 0.85750498, 0.86873658]), array([0.84078627, 0.8466164 , 0.82213844, 0.82599664, 0.81262162,\n",
      "       0.81176426, 0.81399344, 0.82085237, 0.83276988, 0.84151503,\n",
      "       0.84095772, 0.84408717, 0.85750498, 0.86873658]), array([0.8466164 , 0.82213844, 0.82599664, 0.81262162, 0.81176426,\n",
      "       0.81399344, 0.82085237, 0.83276988, 0.84151503, 0.84095772,\n",
      "       0.84408717, 0.85750498, 0.86873658]), array([0.82213844, 0.82599664, 0.81262162, 0.81176426, 0.81399344,\n",
      "       0.82085237, 0.83276988, 0.84151503, 0.84095772, 0.84408717,\n",
      "       0.85750498, 0.86873658]), array([0.82599664, 0.81262162, 0.81176426, 0.81399344, 0.82085237,\n",
      "       0.83276988, 0.84151503, 0.84095772, 0.84408717, 0.85750498,\n",
      "       0.86873658]), array([0.81262162, 0.81176426, 0.81399344, 0.82085237, 0.83276988,\n",
      "       0.84151503, 0.84095772, 0.84408717, 0.85750498, 0.86873658]), array([0.81176426, 0.81399344, 0.82085237, 0.83276988, 0.84151503,\n",
      "       0.84095772, 0.84408717, 0.85750498, 0.86873658]), array([0.81399344, 0.82085237, 0.83276988, 0.84151503, 0.84095772,\n",
      "       0.84408717, 0.85750498, 0.86873658]), array([0.82085237, 0.83276988, 0.84151503, 0.84095772, 0.84408717,\n",
      "       0.85750498, 0.86873658]), array([0.83276988, 0.84151503, 0.84095772, 0.84408717, 0.85750498,\n",
      "       0.86873658]), array([0.84151503, 0.84095772, 0.84408717, 0.85750498, 0.86873658]), array([0.84095772, 0.84408717, 0.85750498, 0.86873658]), array([0.84408717, 0.85750498, 0.86873658]), array([0.85750498, 0.86873658]), array([0.86873658]), array([], dtype=float64), array([], dtype=float64), array([], dtype=float64), array([], dtype=float64), array([], dtype=float64), array([], dtype=float64), array([], dtype=float64), array([], dtype=float64), array([], dtype=float64), array([], dtype=float64), array([], dtype=float64), array([], dtype=float64), array([], dtype=float64), array([], dtype=float64), array([], dtype=float64), array([], dtype=float64), array([], dtype=float64), array([], dtype=float64), array([], dtype=float64), array([], dtype=float64), array([], dtype=float64), array([], dtype=float64), array([], dtype=float64), array([], dtype=float64), array([], dtype=float64), array([], dtype=float64), array([], dtype=float64), array([], dtype=float64), array([], dtype=float64), array([], dtype=float64), array([], dtype=float64), array([], dtype=float64), array([], dtype=float64), array([], dtype=float64), array([], dtype=float64), array([], dtype=float64), array([], dtype=float64), array([], dtype=float64), array([], dtype=float64), array([], dtype=float64), array([], dtype=float64), array([], dtype=float64), array([], dtype=float64), array([], dtype=float64), array([], dtype=float64), array([], dtype=float64), array([], dtype=float64), array([], dtype=float64), array([], dtype=float64), array([], dtype=float64), array([], dtype=float64), array([], dtype=float64), array([], dtype=float64), array([], dtype=float64), array([], dtype=float64), array([], dtype=float64), array([], dtype=float64), array([], dtype=float64), array([], dtype=float64), array([], dtype=float64), array([], dtype=float64), array([], dtype=float64), array([], dtype=float64), array([], dtype=float64), array([], dtype=float64), array([], dtype=float64), array([], dtype=float64), array([], dtype=float64), array([], dtype=float64), array([], dtype=float64), array([], dtype=float64), array([], dtype=float64), array([], dtype=float64), array([], dtype=float64), array([], dtype=float64), array([], dtype=float64), array([], dtype=float64), array([], dtype=float64), array([], dtype=float64), array([], dtype=float64), array([], dtype=float64), array([], dtype=float64), array([], dtype=float64), array([], dtype=float64), array([], dtype=float64), array([], dtype=float64), array([], dtype=float64), array([], dtype=float64), array([], dtype=float64), array([], dtype=float64), array([], dtype=float64), array([], dtype=float64), array([], dtype=float64), array([], dtype=float64), array([], dtype=float64), array([], dtype=float64), array([], dtype=float64), array([], dtype=float64), array([], dtype=float64), array([], dtype=float64), array([], dtype=float64), array([], dtype=float64), array([], dtype=float64), array([], dtype=float64), array([], dtype=float64), array([], dtype=float64), array([], dtype=float64), array([], dtype=float64), array([], dtype=float64), array([], dtype=float64), array([], dtype=float64), array([], dtype=float64), array([], dtype=float64), array([], dtype=float64), array([], dtype=float64), array([], dtype=float64), array([], dtype=float64), array([], dtype=float64), array([], dtype=float64), array([], dtype=float64), array([], dtype=float64), array([], dtype=float64), array([], dtype=float64), array([], dtype=float64), array([], dtype=float64), array([], dtype=float64), array([], dtype=float64), array([], dtype=float64), array([], dtype=float64), array([], dtype=float64), array([], dtype=float64), array([], dtype=float64), array([], dtype=float64), array([], dtype=float64), array([], dtype=float64), array([], dtype=float64), array([], dtype=float64), array([], dtype=float64), array([], dtype=float64), array([], dtype=float64), array([], dtype=float64), array([], dtype=float64), array([], dtype=float64), array([], dtype=float64), array([], dtype=float64), array([], dtype=float64), array([], dtype=float64), array([], dtype=float64), array([], dtype=float64), array([], dtype=float64), array([], dtype=float64), array([], dtype=float64), array([], dtype=float64), array([], dtype=float64), array([], dtype=float64), array([], dtype=float64), array([], dtype=float64), array([], dtype=float64), array([], dtype=float64), array([], dtype=float64), array([], dtype=float64), array([], dtype=float64), array([], dtype=float64)]\n"
     ]
    },
    {
     "ename": "ValueError",
     "evalue": "setting an array element with a sequence. The requested array has an inhomogeneous shape after 1 dimensions. The detected shape was (231,) + inhomogeneous part.",
     "output_type": "error",
     "traceback": [
      "\u001b[1;31m---------------------------------------------------------------------------\u001b[0m",
      "\u001b[1;31mValueError\u001b[0m                                Traceback (most recent call last)",
      "Cell \u001b[1;32mIn[66], line 5\u001b[0m\n\u001b[0;32m      3\u001b[0m     test_features\u001b[38;5;241m.\u001b[39mappend(test_inputs[i\u001b[38;5;241m-\u001b[39m\u001b[38;5;241m60\u001b[39m:i, \u001b[38;5;241m0\u001b[39m])\n\u001b[0;32m      4\u001b[0m \u001b[38;5;28mprint\u001b[39m(test_features)\n\u001b[1;32m----> 5\u001b[0m test_features \u001b[38;5;241m=\u001b[39m \u001b[43mnp\u001b[49m\u001b[38;5;241;43m.\u001b[39;49m\u001b[43marray\u001b[49m\u001b[43m(\u001b[49m\u001b[43mtest_features\u001b[49m\u001b[43m)\u001b[49m\n",
      "\u001b[1;31mValueError\u001b[0m: setting an array element with a sequence. The requested array has an inhomogeneous shape after 1 dimensions. The detected shape was (231,) + inhomogeneous part."
     ]
    }
   ],
   "source": [
    "test_features = []\n",
    "for i in range(60, 291):\n",
    "    test_features.append(test_inputs[i-60:i, 0])\n",
    "print(test_features)\n",
    "test_features = np.array(test_features)"
   ]
  },
  {
   "cell_type": "code",
   "execution_count": 67,
   "metadata": {
    "colab": {
     "base_uri": "https://localhost:8080/",
     "height": 159
    },
    "id": "EFQQ4Hkhcp2b",
    "outputId": "b97587d4-0ebc-4ac2-f506-e7debede00de"
   },
   "outputs": [
    {
     "ename": "AttributeError",
     "evalue": "'list' object has no attribute 'shape'",
     "output_type": "error",
     "traceback": [
      "\u001b[1;31m---------------------------------------------------------------------------\u001b[0m",
      "\u001b[1;31mAttributeError\u001b[0m                            Traceback (most recent call last)",
      "Cell \u001b[1;32mIn[67], line 1\u001b[0m\n\u001b[1;32m----> 1\u001b[0m test_features \u001b[38;5;241m=\u001b[39m np\u001b[38;5;241m.\u001b[39mreshape(test_features, (\u001b[43mtest_features\u001b[49m\u001b[38;5;241;43m.\u001b[39;49m\u001b[43mshape\u001b[49m[\u001b[38;5;241m0\u001b[39m], test_features\u001b[38;5;241m.\u001b[39mshape[\u001b[38;5;241m1\u001b[39m], \u001b[38;5;241m1\u001b[39m))\n\u001b[0;32m      2\u001b[0m \u001b[38;5;28mprint\u001b[39m(test_features\u001b[38;5;241m.\u001b[39mshape)\n",
      "\u001b[1;31mAttributeError\u001b[0m: 'list' object has no attribute 'shape'"
     ]
    }
   ],
   "source": [
    "test_features = np.reshape(test_features, (test_features.shape[0], test_features.shape[1], 1))\n",
    "print(test_features.shape)"
   ]
  },
  {
   "cell_type": "code",
   "execution_count": 68,
   "metadata": {
    "id": "TkGzHUBzKuGl"
   },
   "outputs": [
    {
     "ename": "ValueError",
     "evalue": "Data cardinality is ambiguous. Make sure all arrays contain the same number of samples.'x' sizes: 60, 60, 60, 60, 60, 60, 60, 60, 60, 59, 58, 57, 56, 55, 54, 53, 52, 51, 50, 49, 48, 47, 46, 45, 44, 43, 42, 41, 40, 39, 38, 37, 36, 35, 34, 33, 32, 31, 30, 29, 28, 27, 26, 25, 24, 23, 22, 21, 20, 19, 18, 17, 16, 15, 14, 13, 12, 11, 10, 9, 8, 7, 6, 5, 4, 3, 2, 1, 0, 0, 0, 0, 0, 0, 0, 0, 0, 0, 0, 0, 0, 0, 0, 0, 0, 0, 0, 0, 0, 0, 0, 0, 0, 0, 0, 0, 0, 0, 0, 0, 0, 0, 0, 0, 0, 0, 0, 0, 0, 0, 0, 0, 0, 0, 0, 0, 0, 0, 0, 0, 0, 0, 0, 0, 0, 0, 0, 0, 0, 0, 0, 0, 0, 0, 0, 0, 0, 0, 0, 0, 0, 0, 0, 0, 0, 0, 0, 0, 0, 0, 0, 0, 0, 0, 0, 0, 0, 0, 0, 0, 0, 0, 0, 0, 0, 0, 0, 0, 0, 0, 0, 0, 0, 0, 0, 0, 0, 0, 0, 0, 0, 0, 0, 0, 0, 0, 0, 0, 0, 0, 0, 0, 0, 0, 0, 0, 0, 0, 0, 0, 0, 0, 0, 0, 0, 0, 0, 0, 0, 0, 0, 0, 0, 0, 0, 0, 0, 0, 0, 0, 0, 0, 0, 0, 0, 0, 0, 0, 0, 0, 0\n",
     "output_type": "error",
     "traceback": [
      "\u001b[1;31m---------------------------------------------------------------------------\u001b[0m",
      "\u001b[1;31mValueError\u001b[0m                                Traceback (most recent call last)",
      "Cell \u001b[1;32mIn[68], line 1\u001b[0m\n\u001b[1;32m----> 1\u001b[0m predicted_stock_price \u001b[38;5;241m=\u001b[39m \u001b[43mmodel\u001b[49m\u001b[38;5;241;43m.\u001b[39;49m\u001b[43mpredict\u001b[49m\u001b[43m(\u001b[49m\u001b[43mtest_features\u001b[49m\u001b[43m)\u001b[49m\n",
      "File \u001b[1;32m~\\anaconda3\\envs\\CeCodeAI\\lib\\site-packages\\keras\\src\\utils\\traceback_utils.py:123\u001b[0m, in \u001b[0;36mfilter_traceback.<locals>.error_handler\u001b[1;34m(*args, **kwargs)\u001b[0m\n\u001b[0;32m    120\u001b[0m     filtered_tb \u001b[38;5;241m=\u001b[39m _process_traceback_frames(e\u001b[38;5;241m.\u001b[39m__traceback__)\n\u001b[0;32m    121\u001b[0m     \u001b[38;5;66;03m# To get the full stack trace, call:\u001b[39;00m\n\u001b[0;32m    122\u001b[0m     \u001b[38;5;66;03m# `keras.config.disable_traceback_filtering()`\u001b[39;00m\n\u001b[1;32m--> 123\u001b[0m     \u001b[38;5;28;01mraise\u001b[39;00m e\u001b[38;5;241m.\u001b[39mwith_traceback(filtered_tb) \u001b[38;5;28;01mfrom\u001b[39;00m \u001b[38;5;28;01mNone\u001b[39;00m\n\u001b[0;32m    124\u001b[0m \u001b[38;5;28;01mfinally\u001b[39;00m:\n\u001b[0;32m    125\u001b[0m     \u001b[38;5;28;01mdel\u001b[39;00m filtered_tb\n",
      "File \u001b[1;32m~\\anaconda3\\envs\\CeCodeAI\\lib\\site-packages\\keras\\src\\trainers\\data_adapters\\data_adapter_utils.py:132\u001b[0m, in \u001b[0;36mcheck_data_cardinality\u001b[1;34m(data)\u001b[0m\n\u001b[0;32m    128\u001b[0m     sizes \u001b[38;5;241m=\u001b[39m \u001b[38;5;124m\"\u001b[39m\u001b[38;5;124m, \u001b[39m\u001b[38;5;124m\"\u001b[39m\u001b[38;5;241m.\u001b[39mjoin(\n\u001b[0;32m    129\u001b[0m         \u001b[38;5;28mstr\u001b[39m(i\u001b[38;5;241m.\u001b[39mshape[\u001b[38;5;241m0\u001b[39m]) \u001b[38;5;28;01mfor\u001b[39;00m i \u001b[38;5;129;01min\u001b[39;00m tree\u001b[38;5;241m.\u001b[39mflatten(single_data)\n\u001b[0;32m    130\u001b[0m     )\n\u001b[0;32m    131\u001b[0m     msg \u001b[38;5;241m+\u001b[39m\u001b[38;5;241m=\u001b[39m \u001b[38;5;124mf\u001b[39m\u001b[38;5;124m\"\u001b[39m\u001b[38;5;124m'\u001b[39m\u001b[38;5;132;01m{\u001b[39;00mlabel\u001b[38;5;132;01m}\u001b[39;00m\u001b[38;5;124m'\u001b[39m\u001b[38;5;124m sizes: \u001b[39m\u001b[38;5;132;01m{\u001b[39;00msizes\u001b[38;5;132;01m}\u001b[39;00m\u001b[38;5;130;01m\\n\u001b[39;00m\u001b[38;5;124m\"\u001b[39m\n\u001b[1;32m--> 132\u001b[0m \u001b[38;5;28;01mraise\u001b[39;00m \u001b[38;5;167;01mValueError\u001b[39;00m(msg)\n",
      "\u001b[1;31mValueError\u001b[0m: Data cardinality is ambiguous. Make sure all arrays contain the same number of samples.'x' sizes: 60, 60, 60, 60, 60, 60, 60, 60, 60, 59, 58, 57, 56, 55, 54, 53, 52, 51, 50, 49, 48, 47, 46, 45, 44, 43, 42, 41, 40, 39, 38, 37, 36, 35, 34, 33, 32, 31, 30, 29, 28, 27, 26, 25, 24, 23, 22, 21, 20, 19, 18, 17, 16, 15, 14, 13, 12, 11, 10, 9, 8, 7, 6, 5, 4, 3, 2, 1, 0, 0, 0, 0, 0, 0, 0, 0, 0, 0, 0, 0, 0, 0, 0, 0, 0, 0, 0, 0, 0, 0, 0, 0, 0, 0, 0, 0, 0, 0, 0, 0, 0, 0, 0, 0, 0, 0, 0, 0, 0, 0, 0, 0, 0, 0, 0, 0, 0, 0, 0, 0, 0, 0, 0, 0, 0, 0, 0, 0, 0, 0, 0, 0, 0, 0, 0, 0, 0, 0, 0, 0, 0, 0, 0, 0, 0, 0, 0, 0, 0, 0, 0, 0, 0, 0, 0, 0, 0, 0, 0, 0, 0, 0, 0, 0, 0, 0, 0, 0, 0, 0, 0, 0, 0, 0, 0, 0, 0, 0, 0, 0, 0, 0, 0, 0, 0, 0, 0, 0, 0, 0, 0, 0, 0, 0, 0, 0, 0, 0, 0, 0, 0, 0, 0, 0, 0, 0, 0, 0, 0, 0, 0, 0, 0, 0, 0, 0, 0, 0, 0, 0, 0, 0, 0, 0, 0, 0, 0, 0, 0, 0, 0\n"
     ]
    }
   ],
   "source": [
    "predicted_stock_price = model.predict(test_features)"
   ]
  },
  {
   "cell_type": "code",
   "execution_count": 69,
   "metadata": {
    "id": "FZ4hDjOXgmBX"
   },
   "outputs": [
    {
     "name": "stdout",
     "output_type": "stream",
     "text": [
      "(69, 1)\n"
     ]
    }
   ],
   "source": [
    "predicted_stock_price = sc.inverse_transform(predicted_stock_price)\n",
    "print(predicted_stock_price.shape)"
   ]
  },
  {
   "cell_type": "code",
   "execution_count": 70,
   "metadata": {
    "id": "Fz-mr1dT1Omh"
   },
   "outputs": [
    {
     "name": "stdout",
     "output_type": "stream",
     "text": [
      "(68, 1)\n"
     ]
    }
   ],
   "source": [
    "print(test_stock_data_processed.shape)"
   ]
  },
  {
   "cell_type": "code",
   "execution_count": 71,
   "metadata": {
    "id": "Alsqt3-lgsfj"
   },
   "outputs": [
    {
     "data": {
      "image/png": "[encoded data removed]",
      "text/plain": [
       "<Figure size 1000x600 with 1 Axes>"
      ]
     },
     "metadata": {},
     "output_type": "display_data"
    }
   ],
   "source": [
    "plt.figure(figsize=(10,6))\n",
    "plt.plot(test_stock_data_processed, color='blue', label='Actual Apple Stock Price')\n",
    "plt.plot(predicted_stock_price , color='red', label='Predicted Apple Stock Price')\n",
    "plt.title('Apple Stock Price Prediction')\n",
    "plt.xlabel('Date')\n",
    "plt.ylabel('Apple Stock Price')\n",
    "plt.legend()\n",
    "plt.show()"
   ]
  },
  {
   "cell_type": "markdown",
   "metadata": {
    "id": "mPYS78ikjcIa"
   },
   "source": [
    "## Download the model and the weights"
   ]
  },
  {
   "cell_type": "code",
   "execution_count": 72,
   "metadata": {
    "id": "knvmvzsZjN1r"
   },
   "outputs": [
    {
     "ename": "ModuleNotFoundError",
     "evalue": "No module named 'google.colab'",
     "output_type": "error",
     "traceback": [
      "\u001b[1;31m---------------------------------------------------------------------------\u001b[0m",
      "\u001b[1;31mModuleNotFoundError\u001b[0m                       Traceback (most recent call last)",
      "Cell \u001b[1;32mIn[72], line 1\u001b[0m\n\u001b[1;32m----> 1\u001b[0m \u001b[38;5;28;01mfrom\u001b[39;00m \u001b[38;5;21;01mgoogle\u001b[39;00m\u001b[38;5;21;01m.\u001b[39;00m\u001b[38;5;21;01mcolab\u001b[39;00m \u001b[38;5;28;01mimport\u001b[39;00m files\n",
      "\u001b[1;31mModuleNotFoundError\u001b[0m: No module named 'google.colab'"
     ]
    }
   ],
   "source": [
    "from google.colab import files"
   ]
  },
  {
   "cell_type": "code",
   "execution_count": 73,
   "metadata": {
    "id": "zlfsWuIPi48Y"
   },
   "outputs": [],
   "source": [
    "model_json = model.to_json()\n",
    "with open(\"model.json\", \"w\") as json_file:\n",
    "  json_file.write(model_json)"
   ]
  },
  {
   "cell_type": "code",
   "execution_count": 74,
   "metadata": {
    "id": "t_Zig-9ojIQK"
   },
   "outputs": [
    {
     "ename": "NameError",
     "evalue": "name 'files' is not defined",
     "output_type": "error",
     "traceback": [
      "\u001b[1;31m---------------------------------------------------------------------------\u001b[0m",
      "\u001b[1;31mNameError\u001b[0m                                 Traceback (most recent call last)",
      "Cell \u001b[1;32mIn[74], line 1\u001b[0m\n\u001b[1;32m----> 1\u001b[0m \u001b[43mfiles\u001b[49m\u001b[38;5;241m.\u001b[39mdownload(\u001b[38;5;124m\"\u001b[39m\u001b[38;5;124mmodel.json\u001b[39m\u001b[38;5;124m\"\u001b[39m)\n",
      "\u001b[1;31mNameError\u001b[0m: name 'files' is not defined"
     ]
    }
   ],
   "source": [
    "files.download(\"model.json\")"
   ]
  },
  {
   "cell_type": "code",
   "execution_count": 75,
   "metadata": {
    "id": "VQBt2bNCjVGb"
   },
   "outputs": [
    {
     "name": "stderr",
     "output_type": "stream",
     "text": [
      "WARNING:absl:You are saving your model as an HDF5 file via `model.save()` or `keras.saving.save_model(model)`. This file format is considered legacy. We recommend using instead the native Keras format, e.g. `model.save('my_model.keras')` or `keras.saving.save_model(model, 'my_model.keras')`. \n"
     ]
    },
    {
     "ename": "NameError",
     "evalue": "name 'files' is not defined",
     "output_type": "error",
     "traceback": [
      "\u001b[1;31m---------------------------------------------------------------------------\u001b[0m",
      "\u001b[1;31mNameError\u001b[0m                                 Traceback (most recent call last)",
      "Cell \u001b[1;32mIn[75], line 2\u001b[0m\n\u001b[0;32m      1\u001b[0m model\u001b[38;5;241m.\u001b[39msave(\u001b[38;5;124m'\u001b[39m\u001b[38;5;124mweights.h5\u001b[39m\u001b[38;5;124m'\u001b[39m)\n\u001b[1;32m----> 2\u001b[0m \u001b[43mfiles\u001b[49m\u001b[38;5;241m.\u001b[39mdownload(\u001b[38;5;124m'\u001b[39m\u001b[38;5;124mweights.h5\u001b[39m\u001b[38;5;124m'\u001b[39m)\n",
      "\u001b[1;31mNameError\u001b[0m: name 'files' is not defined"
     ]
    }
   ],
   "source": [
    "model.save('weights.h5')\n",
    "files.download('weights.h5')"
   ]
  },
  {
   "cell_type": "code",
   "execution_count": null,
   "metadata": {},
   "outputs": [],
   "source": []
  },
  {
   "cell_type": "code",
   "execution_count": null,
   "metadata": {},
   "outputs": [],
   "source": []
  },
  {
   "cell_type": "code",
   "execution_count": null,
   "metadata": {},
   "outputs": [],
   "source": []
  },
  {
   "cell_type": "code",
   "execution_count": null,
   "metadata": {},
   "outputs": [],
   "source": []
  }
 ],
 "metadata": {
  "accelerator": "GPU",
  "colab": {
   "collapsed_sections": [
    "mPYS78ikjcIa"
   ],
   "include_colab_link": true,
   "name": "stock-price-prediction-keras.ipynb",
   "provenance": []
  },
  "kernelspec": {
   "display_name": "CeCodeAI",
   "language": "python",
   "name": "cecodeai"
  },
  "language_info": {
   "codemirror_mode": {
    "name": "ipython",
    "version": 3
   },
   "file_extension": ".py",
   "mimetype": "text/x-python",
   "name": "python",
   "nbconvert_exporter": "python",
   "pygments_lexer": "ipython3",
   "version": "3.9.19"
  }
 },
 "nbformat": 4,
 "nbformat_minor": 4
}
